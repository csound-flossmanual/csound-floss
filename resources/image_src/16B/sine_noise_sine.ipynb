{
 "cells": [
  {
   "cell_type": "code",
   "execution_count": 1,
   "metadata": {},
   "outputs": [],
   "source": [
    "%matplotlib qt5\n",
    "import matplotlib.pyplot as plt\n",
    "import numpy as np\n",
    "import soundfile as sf"
   ]
  },
  {
   "cell_type": "code",
   "execution_count": 5,
   "metadata": {},
   "outputs": [],
   "source": [
    "def plotSF4(sfil,start=0,end=-1,plot=[0,0],fig=None,axes=None,ylim=(-.2,.2),):\n",
    "    \"\"\"four plots in one image\"\"\"\n",
    "    amps, sr = sf.read(sfil,frames=0) #just get sr\n",
    "    first = round(start*sr)\n",
    "    last = -1 if end==-1 else round(end*sr)\n",
    "    amps, sr = sf.read(sfil,start=first,stop=last)\n",
    "    numframes = len(amps)\n",
    "    endsecs = numframes/sr+start\n",
    "    time = np.linspace(start, endsecs, numframes)\n",
    "    ax = axes[plot[0],plot[1]]\n",
    "    ax.hlines(0, start, endsecs)\n",
    "    ax.spines['top'].set_visible(False)\n",
    "    ax.spines['right'].set_visible(False)\n",
    "    ax.spines['bottom'].set_visible(False)\n",
    "    ax.xaxis.set_ticks_position('bottom')\n",
    "    ax.yaxis.set_ticks_position('left')\n",
    "    ax.set_xlim(start, endsecs)\n",
    "    ax.set_ylim(ylim)\n",
    "    ax.plot(time, amps[:,0], color='black', lw=1)"
   ]
  },
  {
   "cell_type": "markdown",
   "metadata": {},
   "source": [
    "the code below returns wrong x values for the lower two plots -- no idea why  \n",
    "(it seems to be related to the fact that 12 and 19 have two decimals but this is too absurd ...)"
   ]
  },
  {
   "cell_type": "code",
   "execution_count": 10,
   "metadata": {},
   "outputs": [],
   "source": [
    "fig,axes = plt.subplots(2,2,figsize=(15,4),sharex='none')\n",
    "plt.tight_layout()\n",
    "plotSF4('/home/jh/Desktop/short.wav',2,2.003,[0,0],fig,axes)\n",
    "plotSF4('/home/jh/Desktop/short.wav',8,8.003,[0,1],fig,axes)\n",
    "plotSF4('/home/jh/Desktop/short.wav',12.0,12.003,[1,0],fig,axes)\n",
    "plotSF4('/home/jh/Desktop/short.wav',19.0,19.003,[1,1],fig,axes)\n",
    "plt.show()"
   ]
  },
  {
   "cell_type": "markdown",
   "metadata": {},
   "source": [
    "so i do it with two figures which might also look nicer"
   ]
  },
  {
   "cell_type": "code",
   "execution_count": 30,
   "metadata": {},
   "outputs": [],
   "source": [
    "def plotSF2(sfil,start=0,end=-1,plot=0,fig=None,axes=None,ylim=(-.2,.2),):\n",
    "    \"\"\"two plots in one image\"\"\"\n",
    "    amps, sr = sf.read(sfil,frames=0) #just get sr\n",
    "    first = round(start*sr)\n",
    "    last = -1 if end==-1 else round(end*sr)\n",
    "    amps, sr = sf.read(sfil,start=first,stop=last)\n",
    "    numframes = len(amps)\n",
    "    endsecs = numframes/sr+start\n",
    "    time = np.linspace(start, endsecs, numframes)\n",
    "    ax = axes[plot]\n",
    "    ax.hlines(0, start, endsecs)\n",
    "    ax.spines['top'].set_visible(False)\n",
    "    ax.spines['right'].set_visible(False)\n",
    "    ax.spines['bottom'].set_visible(False)\n",
    "    ax.xaxis.set_ticks_position('bottom')\n",
    "    ax.yaxis.set_ticks_position('left')\n",
    "    ax.set_xlim(start, endsecs)\n",
    "    ax.set_ylim(ylim)\n",
    "    ax.plot(time, amps[:,0], color='black', lw=1)"
   ]
  },
  {
   "cell_type": "code",
   "execution_count": 15,
   "metadata": {},
   "outputs": [],
   "source": [
    "fig,axes = plt.subplots(ncols=2,figsize=(15,4))\n",
    "plt.tight_layout()\n",
    "plotSF2('/home/jh/Desktop/short.wav',2,2.003,0,fig,axes)\n",
    "plotSF2('/home/jh/Desktop/short.wav',8,8.003,1,fig,axes)\n",
    "plt.show()"
   ]
  },
  {
   "cell_type": "code",
   "execution_count": 33,
   "metadata": {},
   "outputs": [],
   "source": [
    "fig,axes = plt.subplots(ncols=2,figsize=(15,4))\n",
    "plt.tight_layout()\n",
    "plotSF2('/home/jh/Desktop/shorter.wav',2,2.003,0,fig,axes)\n",
    "plotSF2('/home/jh/Desktop/shorter.wav',8,8.003,1,fig,axes)\n",
    "plt.show()"
   ]
  },
  {
   "cell_type": "code",
   "execution_count": null,
   "metadata": {},
   "outputs": [],
   "source": []
  }
 ],
 "metadata": {
  "kernelspec": {
   "display_name": "Python 3",
   "language": "python",
   "name": "python3"
  },
  "language_info": {
   "codemirror_mode": {
    "name": "ipython",
    "version": 3
   },
   "file_extension": ".py",
   "mimetype": "text/x-python",
   "name": "python",
   "nbconvert_exporter": "python",
   "pygments_lexer": "ipython3",
   "version": "3.7.3"
  }
 },
 "nbformat": 4,
 "nbformat_minor": 2
}
