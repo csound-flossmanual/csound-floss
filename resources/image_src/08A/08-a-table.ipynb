{
 "cells": [
  {
   "cell_type": "code",
   "execution_count": 1,
   "id": "allied-beast",
   "metadata": {},
   "outputs": [],
   "source": [
    "import drawSvg as dw\n",
    "# https://github.com/cduck/drawSvg"
   ]
  },
  {
   "cell_type": "code",
   "execution_count": 34,
   "id": "liquid-soccer",
   "metadata": {},
   "outputs": [
    {
     "data": {
      "image/svg+xml": [
       "<?xml version=\"1.0\" encoding=\"UTF-8\"?>\n",
       "<svg xmlns=\"http://www.w3.org/2000/svg\" xmlns:xlink=\"http://www.w3.org/1999/xlink\"\n",
       "     width=\"750\" height=\"300\" viewBox=\"0 -300 750 300\">\n",
       "<defs>\n",
       "</defs>\n",
       "<path d=\"M30,-30 L350,-230 L670,-30\" stroke=\"black\" fill=\"none\" />\n",
       "<path d=\"M30,-240 L30,-30 L690,-30\" stroke=\"gray\" fill=\"none\" />\n",
       "<text x=\"690\" y=\"-15\" font-size=\"12\" dy=\"0em\">table index</text>\n",
       "<text x=\"0\" y=\"-250\" font-size=\"12\" dy=\"0em\">value</text>\n",
       "<text x=\"20\" y=\"-230\" font-size=\"14\" text-anchor=\"end\" dy=\"0.4em\">1</text>\n",
       "<text x=\"20\" y=\"-32\" font-size=\"14\" text-anchor=\"end\" dy=\"0.4em\">0</text>\n",
       "<text x=\"30\" y=\"-20\" font-size=\"14\" text-anchor=\"middle\" dy=\"0.4em\">0</text>\n",
       "<text x=\"350\" y=\"-20\" font-size=\"14\" text-anchor=\"middle\" dy=\"0.4em\">320</text>\n",
       "<text x=\"670\" y=\"-20\" font-size=\"14\" text-anchor=\"middle\" dy=\"0.4em\">640</text>\n",
       "<path d=\"M350,-30 L350,-230\" stroke=\"gray\" stroke-width=\"0.5\" stroke-dasharray=\"5 5\" />\n",
       "</svg>"
      ],
      "text/plain": [
       "<drawSvg.drawing.Drawing at 0x7f0ada0b72b0>"
      ]
     },
     "execution_count": 34,
     "metadata": {},
     "output_type": "execute_result"
    }
   ],
   "source": [
    "d = dw.Drawing(750,300)\n",
    "x_start = 30\n",
    "y_start = 30\n",
    "x_mid = x_start + 320\n",
    "x_end = x_start + 640\n",
    "y_max = y_start + 200\n",
    "\n",
    "l = dw.Lines(x_start,y_start,x_mid,y_max,x_end,y_start,stroke='black',fill='none')\n",
    "c = dw.Lines(x_start,y_max+10,x_start,y_start,x_end+20,y_start,stroke='gray',fill='none')\n",
    "d.append(l)\n",
    "d.append(c)\n",
    "\n",
    "d.append(dw.Text('table index',12,x_end+20,y_start-15))\n",
    "d.append(dw.Text('value',12,0,y_max+20))\n",
    "d.append(dw.Text('1',14,x_start-10,y_max,text_anchor='end',valign='middle'))\n",
    "d.append(dw.Text('0',14,x_start-10,y_start+2,text_anchor='end',valign='middle'))\n",
    "d.append(dw.Text('0',14,x_start,y_start-10,text_anchor='middle',valign='middle'))\n",
    "d.append(dw.Text('320',14,x_mid,y_start-10,text_anchor='middle',valign='middle'))\n",
    "d.append(dw.Text('640',14,x_end,y_start-10,text_anchor='middle',valign='middle'))\n",
    "\n",
    "d.append(dw.Line(x_mid,y_start,x_mid,y_max,stroke='gray',stroke_width=0.5,stroke_dasharray='5 5'))\n",
    "\n",
    "d.saveSvg('08-a-table.svg')\n",
    "d"
   ]
  },
  {
   "cell_type": "code",
   "execution_count": null,
   "id": "signed-minute",
   "metadata": {},
   "outputs": [],
   "source": []
  }
 ],
 "metadata": {
  "kernelspec": {
   "display_name": "Python 3",
   "language": "python",
   "name": "python3"
  },
  "language_info": {
   "codemirror_mode": {
    "name": "ipython",
    "version": 3
   },
   "file_extension": ".py",
   "mimetype": "text/x-python",
   "name": "python",
   "nbconvert_exporter": "python",
   "pygments_lexer": "ipython3",
   "version": "3.9.2"
  }
 },
 "nbformat": 4,
 "nbformat_minor": 5
}
