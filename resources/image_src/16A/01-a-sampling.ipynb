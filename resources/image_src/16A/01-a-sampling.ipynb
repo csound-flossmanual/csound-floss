{
 "cells": [
  {
   "cell_type": "code",
   "execution_count": 1,
   "metadata": {},
   "outputs": [],
   "source": [
    "%matplotlib qt5\n",
    "import matplotlib.pyplot as plt\n",
    "import numpy as np"
   ]
  },
  {
   "cell_type": "code",
   "execution_count": 3,
   "metadata": {},
   "outputs": [
    {
     "data": {
      "text/plain": [
       "<BarContainer object of 21 artists>"
      ]
     },
     "execution_count": 3,
     "metadata": {},
     "output_type": "execute_result"
    }
   ],
   "source": [
    "fig, (ax1, ax2) = plt.subplots(2,1, dpi=200)\n",
    "x = np.linspace(0,10,100)\n",
    "x_samps = np.linspace(0.1,10,21, endpoint=False)\n",
    "# top\n",
    "ax1.set(xticks=[], yticks=[1, 0, -1], yticklabels=['+V', 0, '-V'], xlim=(0,10))\n",
    "ax1.set_xlabel('Time', x=0.9)\n",
    "ax1.set_ylabel('Voltage')\n",
    "ax1.spines['top'].set_visible(False)\n",
    "ax1.spines['right'].set_visible(False)\n",
    "ax1.spines['bottom'].set_position('zero')\n",
    "ax1.plot(x,np.sin(x), c='k')\n",
    "ax1.bar(x_samps,np.sin(x_samps),width=0.05, color='k')\n",
    "# bottom\n",
    "ax2.set(xticks=[], yticks=[1, 0, -1], xlim=(0,10))\n",
    "ax2.set_xlabel('Time', x=0.9)\n",
    "ax2.set_ylabel('Number')\n",
    "ax2.spines['top'].set_visible(False)\n",
    "ax2.spines['right'].set_visible(False)\n",
    "ax2.spines['bottom'].set_position('zero')\n",
    "ax2.bar(x_samps,np.sin(x_samps),width=0.05, color='k')\n",
    "\n",
    "#fig.savefig('01A_sampling_1b.png', bbox_inches='tight')"
   ]
  },
  {
   "cell_type": "code",
   "execution_count": null,
   "metadata": {},
   "outputs": [],
   "source": [
    "help(np.linspace)"
   ]
  },
  {
   "cell_type": "code",
   "execution_count": null,
   "metadata": {},
   "outputs": [],
   "source": []
  }
 ],
 "metadata": {
  "kernelspec": {
   "display_name": "Python 3",
   "language": "python",
   "name": "python3"
  },
  "language_info": {
   "codemirror_mode": {
    "name": "ipython",
    "version": 3
   },
   "file_extension": ".py",
   "mimetype": "text/x-python",
   "name": "python",
   "nbconvert_exporter": "python",
   "pygments_lexer": "ipython3",
   "version": "3.7.3"
  }
 },
 "nbformat": 4,
 "nbformat_minor": 2
}
