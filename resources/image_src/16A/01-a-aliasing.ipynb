{
 "cells": [
  {
   "cell_type": "code",
   "execution_count": 1,
   "metadata": {},
   "outputs": [],
   "source": [
    "%matplotlib qt5\n",
    "import matplotlib.pyplot as plt\n",
    "import numpy as np"
   ]
  },
  {
   "cell_type": "code",
   "execution_count": 20,
   "metadata": {
    "scrolled": true
   },
   "outputs": [],
   "source": [
    "fig, ax = plt.subplots(1,1, figsize=(15,5))\n",
    "x = np.linspace(0,100,500)\n",
    "x_samps = np.linspace(0,98,15)\n",
    "\n",
    "ax.set(xticks=[], yticks=[], xlim=(0,100))\n",
    "ax.set_xlabel('Time', x=1)\n",
    "ax.set_ylabel('Amplitude')\n",
    "ax.spines['top'].set_visible(False)\n",
    "ax.spines['right'].set_visible(False)\n",
    "ax.spines['bottom'].set_position('zero')\n",
    "ax.plot(x,np.sin(x), c='b')\n",
    "ax.plot(x, np.sin(x/9.78), c='r')\n",
    "ax.bar(x_samps,np.sin(x_samps),width=0.2, color='k')\n",
    "ax.scatter(x_samps,np.sin(x_samps), c='r')\n",
    "\n",
    "fig.tight_layout()\n",
    "\n",
    "#fig.savefig('01A_aliasing_1b.png', bbox_inches='tight')"
   ]
  },
  {
   "cell_type": "code",
   "execution_count": 45,
   "metadata": {},
   "outputs": [],
   "source": [
    "fig, (ax1, ax2) = plt.subplots(2,1, figsize=(15,8))\n",
    "#fig.suptitle('Sample Rate = 40 kHz (40,000 Samples / Second)')\n",
    "x = np.linspace(0,15,1000)\n",
    "x_samps = np.linspace(0,np.pi*4.5,10)\n",
    "# top\n",
    "ax1.set(xticks=[], yticks=[], xlim=(0,16))\n",
    "ax1.set_xlabel('Time', x=1)\n",
    "ax1.set_ylabel('10 kHz\\nSine Wave', rotation=0, labelpad=40, verticalalignment='center',fontsize=12)\n",
    "ax1.spines['top'].set_visible(False)\n",
    "ax1.spines['right'].set_visible(False)\n",
    "ax1.spines['bottom'].set_position('zero')\n",
    "ax1.plot(x,np.sin(x), c='b')\n",
    "ax1.bar(x_samps,np.sin(x_samps),width=0.05, color='k')\n",
    "ax1.scatter(x_samps, np.sin(x_samps), c='r')\n",
    "# bottom\n",
    "ax2.set(xticks=[], yticks=[], xlim=(0,16))\n",
    "ax2.set_xlabel('Time', x=1)\n",
    "ax2.set_ylabel('30 kHz\\nSine (blue)\\n\\n10 KHz aliased\\nSine (red)', rotation=0, labelpad=50,\n",
    "               verticalalignment='center', y=0.5, fontsize=12)\n",
    "ax2.spines['top'].set_visible(False)\n",
    "ax2.spines['right'].set_visible(False)\n",
    "ax2.spines['bottom'].set_position('zero')\n",
    "ax2.plot(x,-np.sin(3*x), c='b')\n",
    "ax2.bar(x_samps,np.sin(x_samps),width=0.05, color='k')\n",
    "ax2.scatter(x_samps, np.sin(x_samps), c='r')\n",
    "ax2.plot(x,np.sin(x), c='r')\n",
    "\n",
    "fig.tight_layout()\n",
    "#fig.savefig('01A_aliasing_2b.png', bbox_inches='tight')"
   ]
  },
  {
   "cell_type": "code",
   "execution_count": 31,
   "metadata": {},
   "outputs": [
    {
     "name": "stdout",
     "output_type": "stream",
     "text": [
      "Help on method set_ylabel in module matplotlib.axes._axes:\n",
      "\n",
      "set_ylabel(ylabel, fontdict=None, labelpad=None, **kwargs) method of matplotlib.axes._subplots.AxesSubplot instance\n",
      "    Set the label for the y-axis.\n",
      "    \n",
      "    Parameters\n",
      "    ----------\n",
      "    ylabel : str\n",
      "        The label text.\n",
      "    \n",
      "    labelpad : scalar, optional, default: None\n",
      "        Spacing in points from the axes bounding box including ticks\n",
      "        and tick labels.\n",
      "    \n",
      "    Other Parameters\n",
      "    ----------------\n",
      "    **kwargs : `.Text` properties\n",
      "        `.Text` properties control the appearance of the label.\n",
      "    \n",
      "    See also\n",
      "    --------\n",
      "    text : for information on how override and the optional args work\n",
      "\n"
     ]
    }
   ],
   "source": [
    "help(ax1.set_ylabel)"
   ]
  },
  {
   "cell_type": "code",
   "execution_count": null,
   "metadata": {},
   "outputs": [],
   "source": []
  }
 ],
 "metadata": {
  "kernelspec": {
   "display_name": "Python 3",
   "language": "python",
   "name": "python3"
  },
  "language_info": {
   "codemirror_mode": {
    "name": "ipython",
    "version": 3
   },
   "file_extension": ".py",
   "mimetype": "text/x-python",
   "name": "python",
   "nbconvert_exporter": "python",
   "pygments_lexer": "ipython3",
   "version": "3.7.3"
  }
 },
 "nbformat": 4,
 "nbformat_minor": 2
}
