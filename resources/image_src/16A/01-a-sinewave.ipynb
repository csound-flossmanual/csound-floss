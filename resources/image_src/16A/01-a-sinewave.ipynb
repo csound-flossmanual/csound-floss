{
 "cells": [
  {
   "cell_type": "code",
   "execution_count": 1,
   "metadata": {},
   "outputs": [],
   "source": [
    "%matplotlib qt5\n",
    "from matplotlib import pyplot as plt\n",
    "import numpy as np"
   ]
  },
  {
   "cell_type": "code",
   "execution_count": 30,
   "metadata": {},
   "outputs": [],
   "source": [
    "fig,ax = plt.subplots(figsize=(15,3))\n",
    "ax.spines['top'].set_visible(False)\n",
    "ax.spines['right'].set_visible(False)\n",
    "ax.spines['bottom'].set_visible(False)\n",
    "ax.set_ylim(-1,1)\n",
    "ax.set_xlim(0,20.5)\n",
    "ax.arrow(0,0,20,0,head_width=.05,head_length=.2,color='k')\n",
    "ax.set_xticks([])\n",
    "ax.set_yticks([-.9,0,.9])\n",
    "ax.set_yticklabels(['-','0','+'],fontsize=16,verticalalignment='center',horizontalalignment='right')\n",
    "ax.yaxis.set_tick_params(size=0)\n",
    "ax.text(-.5,0,'Amplitude',rotation='90',verticalalignment='center',fontsize=16)\n",
    "ax.text(19.3,-.15,'Time',size='x-large')\n",
    "ax.text(3*np.pi,-.9,'Period',fontsize=16,horizontalalignment='center')\n",
    "ax.axhline(-.98,1/20.5*2*np.pi,1/20.5*4*np.pi,c='k',linewidth=.7,marker=2)\n",
    "ax.axvline(2*np.pi,0.03,.5,c='k',ls='--',lw=1,dashes=(4,5))\n",
    "ax.axvline(4*np.pi,0.03,.5,c='k',ls='--',lw=1,dashes=(4,5))\n",
    "x = np.linspace(0,20,400)\n",
    "y = np.sin(x)*.9\n",
    "fig.tight_layout()\n",
    "ax.plot(x,y,c='k')\n",
    "plt.show()"
   ]
  },
  {
   "cell_type": "code",
   "execution_count": 12,
   "metadata": {},
   "outputs": [
    {
     "name": "stdout",
     "output_type": "stream",
     "text": [
      "Help on method set_yticks in module matplotlib.axes._base:\n",
      "\n",
      "set_yticks(ticks, minor=False) method of matplotlib.axes._subplots.AxesSubplot instance\n",
      "    Set the y ticks with list of *ticks*\n",
      "    \n",
      "    Parameters\n",
      "    ----------\n",
      "    ticks : list\n",
      "        List of y-axis tick locations\n",
      "    \n",
      "    minor : bool, optional\n",
      "        If ``False`` sets major ticks, if ``True`` sets minor ticks.\n",
      "        Default is ``False``.\n",
      "\n"
     ]
    }
   ],
   "source": [
    "help(ax.set_yticks)"
   ]
  },
  {
   "cell_type": "code",
   "execution_count": null,
   "metadata": {},
   "outputs": [],
   "source": []
  }
 ],
 "metadata": {
  "kernelspec": {
   "display_name": "Python 3",
   "language": "python",
   "name": "python3"
  },
  "language_info": {
   "codemirror_mode": {
    "name": "ipython",
    "version": 3
   },
   "file_extension": ".py",
   "mimetype": "text/x-python",
   "name": "python",
   "nbconvert_exporter": "python",
   "pygments_lexer": "ipython3",
   "version": "3.7.3"
  }
 },
 "nbformat": 4,
 "nbformat_minor": 2
}
