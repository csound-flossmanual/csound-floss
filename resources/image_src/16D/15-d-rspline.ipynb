{
 "cells": [
  {
   "cell_type": "code",
   "execution_count": 1,
   "metadata": {},
   "outputs": [
    {
     "name": "stdout",
     "output_type": "stream",
     "text": [
      "Csound engine started at slot#: 1.\n"
     ]
    }
   ],
   "source": [
    "%matplotlib qt5\n",
    "import matplotlib.pyplot as plt\n",
    "import numpy as np\n",
    "%load_ext csoundmagics\n",
    "cs = ICsound()"
   ]
  },
  {
   "cell_type": "code",
   "execution_count": 2,
   "metadata": {},
   "outputs": [],
   "source": [
    "%%csound\n",
    "ksmps = 128\n",
    "seed 54321\n",
    "i0 ftgen 1, 0, kr*10, 2, 0\n",
    "\n",
    "instr 1\n",
    " kndx init 0\n",
    "    kmin     =         -0.95\n",
    "    kmax     =         0.95\n",
    "    kminfrq  =         1\n",
    "    kmaxfrq  =         4\n",
    "    k0     rspline   kmin, kmax, kminfrq, kmaxfrq\n",
    " tablew k0, kndx, 1\n",
    " kndx += 1\n",
    "endin"
   ]
  },
  {
   "cell_type": "code",
   "execution_count": 3,
   "metadata": {},
   "outputs": [],
   "source": [
    "cs.sendScore('i 1 0 10')"
   ]
  },
  {
   "cell_type": "code",
   "execution_count": 6,
   "metadata": {},
   "outputs": [],
   "source": [
    "fig, ax = plt.subplots(figsize=(12,4))\n",
    "xmax = cs.tableLength(1)\n",
    "x = range(xmax)\n",
    "\n",
    "ax.plot(x,cs.table(1),c='k')\n",
    "ax.set(xlim=(0,xmax),xticks=[x*480 for x in range(11)],xticklabels=[x for x in range(11)],yticks=[-1,0,1])\n",
    "ax.spines['top'].set_visible(False)\n",
    "ax.spines['right'].set_visible(False)\n",
    "\n",
    "ax.set_xlabel('time(s)',x=1)\n",
    "fig.tight_layout()"
   ]
  },
  {
   "cell_type": "code",
   "execution_count": null,
   "metadata": {},
   "outputs": [],
   "source": [
    "cs.printLog()"
   ]
  },
  {
   "cell_type": "code",
   "execution_count": null,
   "metadata": {},
   "outputs": [],
   "source": []
  }
 ],
 "metadata": {
  "kernelspec": {
   "display_name": "Python 3",
   "language": "python",
   "name": "python3"
  },
  "language_info": {
   "codemirror_mode": {
    "name": "ipython",
    "version": 3
   },
   "file_extension": ".py",
   "mimetype": "text/x-python",
   "name": "python",
   "nbconvert_exporter": "python",
   "pygments_lexer": "ipython3",
   "version": "3.7.3"
  }
 },
 "nbformat": 4,
 "nbformat_minor": 2
}
