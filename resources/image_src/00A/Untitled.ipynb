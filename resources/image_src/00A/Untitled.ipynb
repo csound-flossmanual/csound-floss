{
 "cells": [
  {
   "cell_type": "code",
   "execution_count": 1,
   "id": "forty-pendant",
   "metadata": {},
   "outputs": [],
   "source": [
    "import draw2Svg as dw"
   ]
  },
  {
   "cell_type": "code",
   "execution_count": 70,
   "id": "regulated-princeton",
   "metadata": {},
   "outputs": [
    {
     "data": {
      "image/svg+xml": [
       "<?xml version=\"1.0\" encoding=\"UTF-8\"?>\n",
       "<svg xmlns=\"http://www.w3.org/2000/svg\" xmlns:xlink=\"http://www.w3.org/1999/xlink\"\n",
       "     width=\"800\" height=\"300\" viewBox=\"0 0 800 300\">\n",
       "<defs>\n",
       "</defs>\n",
       "<path d=\"M266.6666666666667,10 Q0,75.0,10,150.0 T266.6666666666667,250.0 A400.0,150.0,0,0,0,666.6666666666666,200.0\" fill=\"none\" stroke=\"black\" />\n",
       "<path d=\"M266.6666666666667,100.0 A10,5.0,0,1,0,266.6666666666667,115.0 A10,5.0,0,1,1,256.6666666666667,130.0\" fill=\"none\" stroke=\"black\" />\n",
       "</svg>"
      ],
      "text/plain": [
       "<draw2Svg.drawing.Drawing at 0x7fc6730ace50>"
      ]
     },
     "execution_count": 70,
     "metadata": {},
     "output_type": "execute_result"
    }
   ],
   "source": [
    "wdth,hght = 800,300\n",
    "\n",
    "d = dw.Drawing(wdth,hght)\n",
    "\n",
    "c = dw.Path(fill='none',stroke='black')\n",
    "c.M(wdth/3,10)\n",
    "c.Q(0,hght/4, 10,hght/2)\n",
    "c.T(wdth*1/3,hght*5/6)\n",
    "c.A(wdth/2,hght/2,0,0,0,wdth*5/6,hght*2/3)\n",
    "d.append(c)\n",
    "\n",
    "s = dw.Path(fill='none',stroke='black')\n",
    "sx = wdth/3\n",
    "sy = hght/3\n",
    "s_wdth = 10\n",
    "s_hght = 30\n",
    "s.M(sx,sy)\n",
    "s.A(s_wdth,s_wdth/2,0,1,0,sx,sy+s_hght/2)\n",
    "s.A(s_wdth,s_wdth/2,0,1,1,sx-10,sy+s_hght)\n",
    "d.append(s)\n",
    "\n",
    "d"
   ]
  },
  {
   "cell_type": "code",
   "execution_count": 21,
   "id": "equipped-orange",
   "metadata": {},
   "outputs": [
    {
     "data": {
      "image/svg+xml": [
       "<?xml version=\"1.0\" encoding=\"UTF-8\"?>\n",
       "<svg xmlns=\"http://www.w3.org/2000/svg\" xmlns:xlink=\"http://www.w3.org/1999/xlink\"\n",
       "     width=\"100\" height=\"100\" viewBox=\"0 0 100 100\">\n",
       "<defs>\n",
       "</defs>\n",
       "<path d=\"M60,10 Q20,20,50,30 Q70,40,40,50\" fill=\"none\" stroke=\"black\" stroke-width=\"3\" />\n",
       "</svg>"
      ],
      "text/plain": [
       "<draw2Svg.drawing.Drawing at 0x7fbd4610ef70>"
      ]
     },
     "execution_count": 21,
     "metadata": {},
     "output_type": "execute_result"
    }
   ],
   "source": [
    "d = dw.Drawing(100,100)\n",
    "\n",
    "p = dw.Path(fill='none',stroke='black',stroke_width=3)\n",
    "p.M(60,10)\n",
    "p2 = 50,30\n",
    "cp1 = 20,20\n",
    "p.Q(*cp1,*p2)\n",
    "p3 = 40,50\n",
    "cp2 = 70,40\n",
    "p.Q(*cp2,*p3)\n",
    "d.append(p)\n",
    "d"
   ]
  },
  {
   "cell_type": "code",
   "execution_count": 64,
   "id": "instructional-procedure",
   "metadata": {},
   "outputs": [
    {
     "data": {
      "image/svg+xml": [
       "<?xml version=\"1.0\" encoding=\"UTF-8\"?>\n",
       "<svg xmlns=\"http://www.w3.org/2000/svg\" xmlns:xlink=\"http://www.w3.org/1999/xlink\"\n",
       "     width=\"100\" height=\"100\" viewBox=\"0 0 100 100\">\n",
       "<defs>\n",
       "</defs>\n",
       "<path d=\"M60,12 C35,5,30,35,50,29 C70,30,65,55,38,48\" fill=\"none\" stroke=\"black\" stroke-width=\"3\" transform=\"rotate(5,50,29)\" />\n",
       "</svg>"
      ],
      "text/plain": [
       "<draw2Svg.drawing.Drawing at 0x7fbd460696a0>"
      ]
     },
     "execution_count": 64,
     "metadata": {},
     "output_type": "execute_result"
    }
   ],
   "source": [
    "d = dw.Drawing(100,100)\n",
    "\n",
    "p1 = 60,12\n",
    "p2 = 50,29\n",
    "p3 = 38,48\n",
    "\n",
    "p = dw.Path(fill='none',stroke='black',stroke_width=3,transform='rotate(5,50,29)')\n",
    "p.M(*p1)\n",
    "cp1a = 35,5\n",
    "cp1b = 30,35\n",
    "p.C(*cp1a,*cp1b,*p2)\n",
    "cp2a = 70,30\n",
    "cp2b = 65,55\n",
    "p.C(*cp2a,*cp2b,*p3)\n",
    "d.append(p)\n",
    "d"
   ]
  },
  {
   "cell_type": "code",
   "execution_count": 99,
   "id": "trying-torture",
   "metadata": {},
   "outputs": [
    {
     "data": {
      "image/svg+xml": [
       "<?xml version=\"1.0\" encoding=\"UTF-8\"?>\n",
       "<svg xmlns=\"http://www.w3.org/2000/svg\" xmlns:xlink=\"http://www.w3.org/1999/xlink\"\n",
       "     width=\"100\" height=\"100\" viewBox=\"0 0 100 100\">\n",
       "<defs>\n",
       "</defs>\n",
       "<path d=\"M58,12 C35,5,30,33,46,31 L52,29 C70,27,65,55,38,48\" fill=\"none\" stroke=\"black\" stroke-width=\"3\" transform=\"rotate(10,50,30)\" />\n",
       "</svg>"
      ],
      "text/plain": [
       "<draw2Svg.drawing.Drawing at 0x7fbd46022790>"
      ]
     },
     "execution_count": 99,
     "metadata": {},
     "output_type": "execute_result"
    }
   ],
   "source": [
    "d = dw.Drawing(100,100)\n",
    "\n",
    "p1 = 58,12\n",
    "p2a = 46,31\n",
    "p2b = 52,29\n",
    "p3 = 38,48\n",
    "\n",
    "p = dw.Path(fill='none',stroke='black',stroke_width=3,transform='rotate(10,50,30)')\n",
    "p.M(*p1)\n",
    "cp1a = 35,5\n",
    "cp1b = 30,33\n",
    "p.C(*cp1a,*cp1b,*p2a)\n",
    "#p.M(*p2b)\n",
    "p.L(*p2b)\n",
    "cp2a = 70,27\n",
    "cp2b = 65,55\n",
    "p.C(*cp2a,*cp2b,*p3)\n",
    "d.append(p)\n",
    "d"
   ]
  },
  {
   "cell_type": "code",
   "execution_count": null,
   "id": "affecting-aruba",
   "metadata": {},
   "outputs": [],
   "source": [
    "def myS(x,y,h=40,sw=3):\n",
    "    \"\"\"ein S ...\n",
    "    der xy punkt ist unten in der mitte\n",
    "    sw = stroke-width\"\"\"\n",
    "    \n",
    "\n",
    "d = dw.Drawing(100,100)\n",
    "\n",
    "p1 = 58,12\n",
    "p2a = 46,31\n",
    "p2b = 52,29\n",
    "p3 = 38,48\n",
    "\n",
    "p = dw.Path(fill='none',stroke='black',stroke_width=sw,transform='rotate(10,50,30)')\n",
    "p.M(*p1)\n",
    "cp1a = 35,5\n",
    "cp1b = 30,33\n",
    "p.C(*cp1a,*cp1b,*p2a)\n",
    "#p.M(*p2b)\n",
    "p.L(*p2b)\n",
    "cp2a = 70,27\n",
    "cp2b = 65,55\n",
    "p.C(*cp2a,*cp2b,*p3)\n",
    "d.append(p)\n",
    "d"
   ]
  }
 ],
 "metadata": {
  "kernelspec": {
   "display_name": "Python 3",
   "language": "python",
   "name": "python3"
  },
  "language_info": {
   "codemirror_mode": {
    "name": "ipython",
    "version": 3
   },
   "file_extension": ".py",
   "mimetype": "text/x-python",
   "name": "python",
   "nbconvert_exporter": "python",
   "pygments_lexer": "ipython3",
   "version": "3.9.2"
  }
 },
 "nbformat": 4,
 "nbformat_minor": 5
}
