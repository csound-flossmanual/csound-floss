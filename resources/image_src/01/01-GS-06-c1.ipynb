{
 "cells": [
  {
   "cell_type": "code",
   "execution_count": 1,
   "id": "unknown-metropolitan",
   "metadata": {},
   "outputs": [],
   "source": [
    "import draw2Svg as dw"
   ]
  },
  {
   "cell_type": "code",
   "execution_count": 13,
   "id": "minor-elizabeth",
   "metadata": {},
   "outputs": [
    {
     "data": {
      "image/svg+xml": [
       "<?xml version=\"1.0\" encoding=\"UTF-8\"?>\n",
       "<svg xmlns=\"http://www.w3.org/2000/svg\" xmlns:xlink=\"http://www.w3.org/1999/xlink\"\n",
       "     width=\"400\" height=\"400\" viewBox=\"0 0 400 400\">\n",
       "<defs>\n",
       "</defs>\n",
       "<rect x=\"95.0\" y=\"10.0\" width=\"40.0\" height=\"304.0\" fill=\"none\" stroke=\"black\" />\n",
       "<text x=\"115.0\" y=\"352.0\" font-size=\"14\" text-anchor=\"middle\" dy=\"0em\">8</text>\n",
       "<path d=\"M135.0,10.0 L350.0,10.0\" stroke=\"black\" stroke-dasharray=\"3 3\" />\n",
       "<rect x=\"180.0\" y=\"162.0\" width=\"40.0\" height=\"152.0\" fill=\"none\" stroke=\"black\" />\n",
       "<text x=\"200.0\" y=\"352.0\" font-size=\"14\" text-anchor=\"middle\" dy=\"0em\">4</text>\n",
       "<path d=\"M220.0,162.0 L350.0,162.0\" stroke=\"black\" stroke-dasharray=\"3 3\" />\n",
       "<rect x=\"265.0\" y=\"238.0\" width=\"40.0\" height=\"76.0\" fill=\"none\" stroke=\"black\" />\n",
       "<text x=\"285.0\" y=\"352.0\" font-size=\"14\" text-anchor=\"middle\" dy=\"0em\">2</text>\n",
       "<path d=\"M305.0,238.0 L350.0,238.0\" stroke=\"black\" stroke-dasharray=\"3 3\" />\n",
       "<text x=\"10.0\" y=\"352.0\" font-size=\"14\" dy=\"0em\">Number</text>\n",
       "<text x=\"10.0\" y=\"390.0\" font-size=\"14\" dy=\"0em\">Ratio</text>\n",
       "<text x=\"137.5\" y=\"390.0\" font-size=\"14\" dy=\"0em\">8 : 4</text>\n",
       "<text x=\"222.5\" y=\"390.0\" font-size=\"14\" dy=\"0em\">4 : 2</text>\n",
       "<text x=\"350.0\" y=\"86.0\" font-size=\"14\" dy=\"0.4em\">4</text>\n",
       "<text x=\"350.0\" y=\"200.0\" font-size=\"14\" dy=\"0.4em\">2</text>\n",
       "<text x=\"350.0\" y=\"17.6\" font-size=\"14\" text-anchor=\"middle\" dy=\"1em\">Difference</text>\n",
       "</svg>"
      ],
      "text/plain": [
       "<draw2Svg.drawing.Drawing at 0x7f5a3b623250>"
      ]
     },
     "execution_count": 13,
     "metadata": {},
     "output_type": "execute_result"
    }
   ],
   "source": [
    "w,h = 400,400\n",
    "d = dw.Drawing(w,h)\n",
    "\n",
    "exec(open('draw2Svg_funs.py').read())\n",
    "\n",
    "mleft=10\n",
    "mright=50\n",
    "mtop=10\n",
    "mbot=10\n",
    "xsize = w-mleft-mright\n",
    "ysize = h-mtop-mbot\n",
    "xnum = 5 # posts (= one more than divisions)\n",
    "ynum = 11\n",
    "xunit = xsize / (xnum-1)\n",
    "yunit = ysize / (ynum-1)\n",
    "\n",
    "textsiz = 14\n",
    "\n",
    "def x_grid(inval):\n",
    "    \"\"\"for xnum=4, inval is from 0 (left) to 3 (right)\n",
    "    as range to write\"\"\"\n",
    "    return scale(inval,0,xnum-1,mleft,mleft+xsize)\n",
    "\n",
    "def y_grid(inval):\n",
    "    \"\"\"for num=11, inval is from 0 (top) to 10 (bottom)\n",
    "    as range to write\"\"\"\n",
    "    return scale(inval,0,ynum-1,mtop,mtop+ysize)\n",
    "\n",
    "# rectangles and helper lines\n",
    "for i,num in enumerate([8,4,2]):\n",
    "    x = x_grid(i+1)\n",
    "    y = y_grid(8-num)\n",
    "    rectwidth = w/10\n",
    "    rect = dw.Rectangle(x,y,rectwidth,num*yunit,fill='none',stroke='black')\n",
    "    d.append(rect)\n",
    "    d.append(dw.Text('%d'%num,textsiz,x+rectwidth/2,y_grid(9),text_anchor='middle'))\n",
    "    d.append(dw.Line(x+rectwidth,y,x_grid(4),y,stroke='black',stroke_dasharray='3 3'))\n",
    "\n",
    "# text below\n",
    "d.append(dw.Text('Number',textsiz,x_grid(0),y_grid(9)))\n",
    "d.append(dw.Text('Ratio',textsiz,x_grid(0),y_grid(10)))\n",
    "d.append(dw.Text('8 : 4',textsiz,x_grid(1.5),y_grid(10)))\n",
    "d.append(dw.Text('4 : 2',textsiz,x_grid(2.5),y_grid(10)))\n",
    "\n",
    "# text right\n",
    "d.append(dw.Text('4',textsiz,x_grid(4),y_grid(2),valign='middle'))\n",
    "d.append(dw.Text('2',textsiz,x_grid(4),y_grid(5),valign='middle'))\n",
    "d.append(dw.Text('Difference',textsiz,x_grid(4),y_grid(0.2),\n",
    "                 text_anchor='middle',valign='top'))\n",
    "\n",
    "d.savePng('../../images/01-GS-06-c1.png')\n",
    "d"
   ]
  },
  {
   "cell_type": "code",
   "execution_count": null,
   "id": "exposed-means",
   "metadata": {},
   "outputs": [],
   "source": []
  }
 ],
 "metadata": {
  "kernelspec": {
   "display_name": "Python 3",
   "language": "python",
   "name": "python3"
  },
  "language_info": {
   "codemirror_mode": {
    "name": "ipython",
    "version": 3
   },
   "file_extension": ".py",
   "mimetype": "text/x-python",
   "name": "python",
   "nbconvert_exporter": "python",
   "pygments_lexer": "ipython3",
   "version": "3.9.2"
  }
 },
 "nbformat": 4,
 "nbformat_minor": 5
}
