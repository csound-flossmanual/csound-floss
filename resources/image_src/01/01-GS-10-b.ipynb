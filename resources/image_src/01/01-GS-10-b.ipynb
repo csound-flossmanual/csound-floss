{
 "cells": [
  {
   "cell_type": "code",
   "execution_count": 2,
   "id": "bulgarian-ready",
   "metadata": {},
   "outputs": [],
   "source": [
    "import draw2Svg as dw"
   ]
  },
  {
   "cell_type": "code",
   "execution_count": 32,
   "id": "running-symposium",
   "metadata": {},
   "outputs": [
    {
     "data": {
      "image/svg+xml": [
       "<?xml version=\"1.0\" encoding=\"UTF-8\"?>\n",
       "<svg xmlns=\"http://www.w3.org/2000/svg\" xmlns:xlink=\"http://www.w3.org/1999/xlink\"\n",
       "     width=\"480.0\" height=\"480.0\" viewBox=\"0 0 400 400\">\n",
       "<defs>\n",
       "</defs>\n",
       "<rect x=\"38.0\" y=\"0.526315789473685\" width=\"324.0\" height=\"408.9473684210526\" fill=\"#bbb\" fill-opacity=\"0.5\" />\n",
       "<rect x=\"38.0\" y=\"25.842105263157894\" width=\"324.0\" height=\"350.52631578947364\" fill=\"#5b8\" fill-opacity=\"0.5\" />\n",
       "<rect x=\"38.0\" y=\"123.21052631578947\" width=\"324.0\" height=\"58.421052631578945\" fill=\"#f84\" fill-opacity=\"0.5\" />\n",
       "<rect x=\"38.0\" y=\"240.05263157894737\" width=\"324.0\" height=\"58.421052631578945\" fill=\"#f84\" fill-opacity=\"0.5\" />\n",
       "<text x=\"48.0\" y=\"20.0\" font-size=\"16\" font-family=\"courier\" dy=\"0em\">&lt;CsInstruments&gt;</text>\n",
       "<text x=\"48.0\" y=\"39.473684210526315\" font-size=\"16\" font-family=\"courier\" dy=\"0em\">sr = 44100</text>\n",
       "<text x=\"48.0\" y=\"58.94736842105263\" font-size=\"16\" font-family=\"courier\" dy=\"0em\">ksmps = ...</text>\n",
       "<text x=\"48.0\" y=\"78.42105263157895\" font-size=\"16\" font-family=\"courier\" dy=\"0em\">...</text>\n",
       "<text x=\"48.0\" y=\"136.8421052631579\" font-size=\"16\" font-family=\"courier\" dy=\"0em\">instr Hello</text>\n",
       "<text x=\"70.80000000000001\" y=\"156.31578947368422\" font-size=\"16\" font-family=\"courier\" dy=\"0em\">prints(\"Hello\\n\")</text>\n",
       "<text x=\"48.0\" y=\"175.78947368421052\" font-size=\"16\" font-family=\"courier\" dy=\"0em\">endin</text>\n",
       "<text x=\"48.0\" y=\"195.26315789473682\" font-size=\"16\" font-family=\"courier\" dy=\"0em\">schedule(\"Hello\",0,z)</text>\n",
       "<text x=\"48.0\" y=\"253.68421052631578\" font-size=\"16\" font-family=\"courier\" dy=\"0em\">instr Goodbye</text>\n",
       "<text x=\"70.80000000000001\" y=\"273.1578947368421\" font-size=\"16\" font-family=\"courier\" dy=\"0em\">prints(\"Good bye\\n\")</text>\n",
       "<text x=\"48.0\" y=\"292.63157894736844\" font-size=\"16\" font-family=\"courier\" dy=\"0em\">endin</text>\n",
       "<text x=\"48.0\" y=\"312.10526315789474\" font-size=\"16\" font-family=\"courier\" dy=\"0em\">schedule(\"Goodbye\",z,0)</text>\n",
       "<text x=\"48.0\" y=\"390.0\" font-size=\"16\" font-family=\"courier\" dy=\"0em\">&lt;/CsInstruments&gt;</text>\n",
       "</svg>"
      ],
      "text/plain": [
       "<draw2Svg.drawing.Drawing at 0x7f4dbc3694f0>"
      ]
     },
     "execution_count": 32,
     "metadata": {},
     "output_type": "execute_result"
    }
   ],
   "source": [
    "w,h = 400,400\n",
    "d = dw.Drawing(w,h)\n",
    "\n",
    "xnum = 2 # posts (= one more than divisions)\n",
    "ynum = 20\n",
    "mleft = 10\n",
    "mright = 10\n",
    "mtop = 20\n",
    "mbot = 10\n",
    "xsize = w-mleft-mright\n",
    "ysize = h-mtop-mbot\n",
    "xunit = xsize / (xnum-1)\n",
    "yunit = ysize / (ynum-1)\n",
    "\n",
    "exec(open('draw2Svg_funs.py').read())\n",
    "\n",
    "def xgrid(inval):\n",
    "    \"\"\"for xnum=4, inval is from 0 (left) to 3 (right)\n",
    "    as range to write\"\"\"\n",
    "    return scale(inval,0,xnum-1,mleft,mleft+xsize)\n",
    "\n",
    "def ygrid(inval):\n",
    "    \"\"\"for num=11, inval is from 0 (top) to 10 (bottom)\n",
    "    as range to write\"\"\"\n",
    "    return scale(inval,0,ynum-1,mtop,mtop+ysize)\n",
    "\n",
    "# background\n",
    "left = xgrid(.1)-10\n",
    "wdth = xunit*.8 + 20\n",
    "rect(left,ygrid(-1),wdth,yunit*21,fill='#bbb',fill_opacity=.5)\n",
    "rect(left,ygrid(.3),wdth,yunit*18,fill='#5b8',fill_opacity=.5)\n",
    "for i in [5,11]:\n",
    "    y = ygrid(i+0.3)\n",
    "    rect(left,y,wdth,yunit*3,fill='#f84',fill_opacity=.5)\n",
    "\n",
    "\n",
    "# text\n",
    "siz = 16\n",
    "t = ['<CsInstruments>','sr = 44100','ksmps = ...','...',\n",
    "     'instr Hello','prints(\"Hello\\\\n\")','endin','schedule(\"Hello\",0,z)',\n",
    "     'instr Goodbye','prints(\"Good bye\\\\n\")','endin','schedule(\"Goodbye\",z,0)',\n",
    "     '</CsInstruments>']\n",
    "ypos = [0,1,2,3,6,7,8,9,12,13,14,15,19]\n",
    "for i,p in enumerate(ypos):\n",
    "    if i in [5,9]: x = xgrid(.16)\n",
    "    else: x = xgrid(.1)\n",
    "    text(t[i],x,ygrid(p),siz,font_family='courier')\n",
    "\n",
    "\n",
    "d.setPixelScale(1.2)\n",
    "d.savePng('../../images/01-GS-10-b.png')\n",
    "d"
   ]
  },
  {
   "cell_type": "code",
   "execution_count": null,
   "id": "phantom-laptop",
   "metadata": {},
   "outputs": [],
   "source": []
  }
 ],
 "metadata": {
  "kernelspec": {
   "display_name": "Python 3",
   "language": "python",
   "name": "python3"
  },
  "language_info": {
   "codemirror_mode": {
    "name": "ipython",
    "version": 3
   },
   "file_extension": ".py",
   "mimetype": "text/x-python",
   "name": "python",
   "nbconvert_exporter": "python",
   "pygments_lexer": "ipython3",
   "version": "3.9.2"
  }
 },
 "nbformat": 4,
 "nbformat_minor": 5
}
