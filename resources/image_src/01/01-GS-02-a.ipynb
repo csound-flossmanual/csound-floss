{
 "cells": [
  {
   "cell_type": "code",
   "execution_count": 1,
   "id": "conditional-lancaster",
   "metadata": {},
   "outputs": [],
   "source": [
    "import draw2Svg as dw"
   ]
  },
  {
   "cell_type": "code",
   "execution_count": 2,
   "id": "cheap-postage",
   "metadata": {},
   "outputs": [
    {
     "data": {
      "image/svg+xml": [
       "<?xml version=\"1.0\" encoding=\"UTF-8\"?>\n",
       "<svg xmlns=\"http://www.w3.org/2000/svg\" xmlns:xlink=\"http://www.w3.org/1999/xlink\"\n",
       "     width=\"600.0\" height=\"300.0\" viewBox=\"0 0 400 200\">\n",
       "<defs>\n",
       "</defs>\n",
       "<path d=\"M30,20 L30,180 L380,180\" stroke=\"black\" fill=\"none\" />\n",
       "<path d=\"M30,50 L106.92307692307692,100 L337.6923076923077,100\" fill=\"none\" stroke=\"black\" stroke-width=\"2\" />\n",
       "<path d=\"M30,50 h-5 M30,100 h-5 M30,180 v5 M106.92307692307692,180 v5 M183.84615384615384,180 v5 M260.7692307692308,180 v5 M337.6923076923077,180 v5\" stroke=\"black\" stroke-width=\"1\" />\n",
       "<text x=\"25\" y=\"50\" font-size=\"12\" text-anchor=\"end\" dy=\"0.4em\">500</text>\n",
       "<text x=\"25\" y=\"100\" font-size=\"12\" text-anchor=\"end\" dy=\"0.4em\">400</text>\n",
       "<text x=\"30\" y=\"185\" font-size=\"12\" text-anchor=\"middle\" dy=\"1em\">0</text>\n",
       "<text x=\"106.92307692307692\" y=\"185\" font-size=\"12\" text-anchor=\"middle\" dy=\"1em\">0.5</text>\n",
       "<text x=\"183.84615384615384\" y=\"185\" font-size=\"12\" text-anchor=\"middle\" dy=\"1em\">1</text>\n",
       "<text x=\"260.7692307692308\" y=\"185\" font-size=\"12\" text-anchor=\"middle\" dy=\"1em\">1.5</text>\n",
       "<text x=\"337.6923076923077\" y=\"185\" font-size=\"12\" text-anchor=\"middle\" dy=\"1em\">2</text>\n",
       "<text x=\"395\" y=\"185\" font-size=\"12\" text-anchor=\"end\" dy=\"1em\">time (s)</text>\n",
       "</svg>"
      ],
      "text/plain": [
       "<draw2Svg.drawing.Drawing at 0x7fbf39220460>"
      ]
     },
     "execution_count": 2,
     "metadata": {},
     "output_type": "execute_result"
    }
   ],
   "source": [
    "wdth,hght = 400,200\n",
    "d = dw.Drawing(wdth,hght)\n",
    "\n",
    "# axes\n",
    "x_left = 30\n",
    "x_right = wdth-20\n",
    "y_up = 20\n",
    "y_down = hght-20\n",
    "d.append(dw.Lines(x_left,y_up,x_left,y_down,x_right,y_down,stroke='black',fill='none'))\n",
    "\n",
    "# line\n",
    "y_top = 50\n",
    "y_bottom = hght-100\n",
    "x_sec = wdth/2.6\n",
    "d.append(dw.Lines(x_left,y_top,x_left+x_sec/2,y_bottom,x_left+x_sec*2,y_bottom,fill='none',stroke='black',stroke_width=2))\n",
    "\n",
    "# ticks \n",
    "ticklen = 5\n",
    "t = dw.Path(stroke='black',stroke_width=1)\n",
    "t.M(x_left,y_top)\n",
    "t.h(-ticklen)\n",
    "t.M(x_left,y_bottom)\n",
    "t.h(-ticklen)\n",
    "t.M(x_left,y_down)\n",
    "t.v(ticklen)\n",
    "t.M(x_left+x_sec/2,y_down)\n",
    "t.v(ticklen)\n",
    "t.M(x_left+x_sec,y_down)\n",
    "t.v(ticklen)\n",
    "t.M(x_left+x_sec*1.5,y_down)\n",
    "t.v(ticklen)\n",
    "t.M(x_left+x_sec*2,y_down)\n",
    "t.v(ticklen)\n",
    "d.append(t)\n",
    "\n",
    "# text\n",
    "d.append(dw.Text('500',12,x_left-ticklen,y_top,valign='middle',text_anchor='end'))\n",
    "d.append(dw.Text('400',12,x_left-ticklen,y_bottom,valign='middle',text_anchor='end'))\n",
    "d.append(dw.Text('0',12,x_left,y_down+ticklen,valign='top',text_anchor='middle'))\n",
    "d.append(dw.Text('0.5',12,x_left+x_sec/2,y_down+ticklen,valign='top',text_anchor='middle'))\n",
    "d.append(dw.Text('1',12,x_left+x_sec,y_down+ticklen,valign='top',text_anchor='middle'))\n",
    "d.append(dw.Text('1.5',12,x_left+x_sec*1.5,y_down+ticklen,valign='top',text_anchor='middle'))\n",
    "d.append(dw.Text('2',12,x_left+x_sec*2,y_down+ticklen,valign='top',text_anchor='middle'))\n",
    "d.append(dw.Text('time (s)',12,wdth-5,y_down+ticklen,valign='top',text_anchor='end'))\n",
    "\n",
    "d.setPixelScale(1.5)\n",
    "d.saveSvg('../../images/01-GS-02-a.svg')\n",
    "d.savePng('../../images/01-GS-02-a.png')\n",
    "d"
   ]
  },
  {
   "cell_type": "code",
   "execution_count": null,
   "id": "national-briefs",
   "metadata": {},
   "outputs": [],
   "source": []
  }
 ],
 "metadata": {
  "kernelspec": {
   "display_name": "Python 3 (ipykernel)",
   "language": "python",
   "name": "python3"
  },
  "language_info": {
   "codemirror_mode": {
    "name": "ipython",
    "version": 3
   },
   "file_extension": ".py",
   "mimetype": "text/x-python",
   "name": "python",
   "nbconvert_exporter": "python",
   "pygments_lexer": "ipython3",
   "version": "3.9.2"
  }
 },
 "nbformat": 4,
 "nbformat_minor": 5
}
