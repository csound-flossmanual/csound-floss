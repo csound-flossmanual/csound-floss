{
 "cells": [
  {
   "cell_type": "code",
   "execution_count": 1,
   "id": "unique-simpson",
   "metadata": {},
   "outputs": [],
   "source": [
    "import draw2Svg as dw"
   ]
  },
  {
   "cell_type": "code",
   "execution_count": 108,
   "id": "ordered-leonard",
   "metadata": {},
   "outputs": [
    {
     "data": {
      "image/svg+xml": [
       "<?xml version=\"1.0\" encoding=\"UTF-8\"?>\n",
       "<svg xmlns=\"http://www.w3.org/2000/svg\" xmlns:xlink=\"http://www.w3.org/1999/xlink\"\n",
       "     width=\"450\" height=\"170\" viewBox=\"0 0 450 170\">\n",
       "<defs>\n",
       "</defs>\n",
       "<text x=\"10\" y=\"110.0\" font-size=\"16\" dy=\"0em\">score line -&gt;</text>\n",
       "<text x=\"122.5\" y=\"110.0\" font-size=\"18\" font-family=\"courier\" font-weight=\"bold\" dy=\"0em\">i  \"Hello\"  0  2</text>\n",
       "<text x=\"122.5\" y=\"20\" font-size=\"18\" font-family=\"courier\" font-weight=\"bold\" text-anchor=\"middle\" dy=\"0em\">p1</text>\n",
       "<text x=\"122.5\" y=\"40\" font-size=\"16\" text-anchor=\"middle\" dy=\"0em\">instrument</text>\n",
       "<text x=\"225.0\" y=\"20\" font-size=\"18\" font-family=\"courier\" font-weight=\"bold\" text-anchor=\"middle\" dy=\"0em\">p2</text>\n",
       "<text x=\"225.0\" y=\"40\" font-size=\"16\" text-anchor=\"middle\" dy=\"0em\">start time</text>\n",
       "<text x=\"320.0\" y=\"20\" font-size=\"18\" font-family=\"courier\" font-weight=\"bold\" text-anchor=\"middle\" dy=\"0em\">p3</text>\n",
       "<text x=\"320.0\" y=\"40\" font-size=\"16\" text-anchor=\"middle\" dy=\"0em\">duration</text>\n",
       "<path d=\"M122.5,45 L182.5,95.0\" stroke=\"black\" />\n",
       "<path d=\"M225.0,45 L235.0,95.0\" stroke=\"black\" />\n",
       "<path d=\"M320.0,45 L265.0,95.0\" stroke=\"black\" />\n",
       "<text x=\"112.5\" y=\"160\" font-size=\"16\" dy=\"0em\">signifies an instrument event</text>\n",
       "<path d=\"M127.5,120.0 L127.5,145\" stroke=\"black\" />\n",
       "</svg>"
      ],
      "text/plain": [
       "<draw2Svg.drawing.Drawing at 0x7f9dfa66ac10>"
      ]
     },
     "execution_count": 108,
     "metadata": {},
     "output_type": "execute_result"
    }
   ],
   "source": [
    "w,h = 450,170\n",
    "d = dw.Drawing(w,h)\n",
    "\n",
    "marg = 10\n",
    "w_real = w-marg*2\n",
    "h_real = h-marg*2\n",
    "\n",
    "# kind of grid\n",
    "x0 = marg\n",
    "x1 = x0 + w/4\n",
    "x2 = x0 + w*1/2 - 10\n",
    "x3 = x0 + w*4/5 - 50\n",
    "y0 = marg\n",
    "y1 = marg+10\n",
    "y2 = marg+h_real*2/3\n",
    "y3 = h-marg\n",
    "\n",
    "# text left\n",
    "d.append(dw.Text('score line ->',16,x0,y2))\n",
    "\n",
    "# score line\n",
    "d.append(dw.Text('i  \"Hello\"  0  2',18,x1,y2,font_family='courier',font_weight='bold'))\n",
    "\n",
    "# comment above\n",
    "d.append(dw.Text('p1',18,x1,y1,font_family='courier',font_weight='bold',text_anchor='middle'))\n",
    "d.append(dw.Text('instrument',16,x1,y1+20,text_anchor='middle'))\n",
    "d.append(dw.Text('p2',18,x2,y1,font_family='courier',font_weight='bold',text_anchor='middle'))\n",
    "d.append(dw.Text('start time',16,x2,y1+20,text_anchor='middle'))\n",
    "d.append(dw.Text('p3',18,x3,y1,font_family='courier',font_weight='bold',text_anchor='middle'))\n",
    "d.append(dw.Text('duration',16,x3,y1+20,text_anchor='middle'))\n",
    "\n",
    "# arrows\n",
    "d.append(dw.Line(x1,y1+25,x1+60,y2-15,stroke='black'))\n",
    "d.append(dw.Line(x2,y1+25,x2+10,y2-15,stroke='black'))\n",
    "d.append(dw.Line(x3,y1+25,x3-55,y2-15,stroke='black'))\n",
    "\n",
    "# comment below\n",
    "d.append(dw.Text('signifies an instrument event',16,x1-10,y3))\n",
    "d.append(dw.Line(x1+5,y2+10,x1+5,y3-15,stroke='black'))\n",
    "\n",
    "d.savePng('../../images/01-GS-04-c.png')\n",
    "d"
   ]
  },
  {
   "cell_type": "code",
   "execution_count": null,
   "id": "adjacent-oklahoma",
   "metadata": {},
   "outputs": [],
   "source": []
  }
 ],
 "metadata": {
  "kernelspec": {
   "display_name": "Python 3",
   "language": "python",
   "name": "python3"
  },
  "language_info": {
   "codemirror_mode": {
    "name": "ipython",
    "version": 3
   },
   "file_extension": ".py",
   "mimetype": "text/x-python",
   "name": "python",
   "nbconvert_exporter": "python",
   "pygments_lexer": "ipython3",
   "version": "3.9.2"
  }
 },
 "nbformat": 4,
 "nbformat_minor": 5
}
