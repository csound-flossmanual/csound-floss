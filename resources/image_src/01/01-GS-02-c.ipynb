{
 "cells": [
  {
   "cell_type": "code",
   "execution_count": 1,
   "id": "conditional-lancaster",
   "metadata": {},
   "outputs": [],
   "source": [
    "import draw2Svg as dw"
   ]
  },
  {
   "cell_type": "code",
   "execution_count": 28,
   "id": "cheap-postage",
   "metadata": {},
   "outputs": [
    {
     "data": {
      "image/svg+xml": [
       "<?xml version=\"1.0\" encoding=\"UTF-8\"?>\n",
       "<svg xmlns=\"http://www.w3.org/2000/svg\" xmlns:xlink=\"http://www.w3.org/1999/xlink\"\n",
       "     width=\"600.0\" height=\"450.0\" viewBox=\"0 0 400 300\">\n",
       "<defs>\n",
       "</defs>\n",
       "<text x=\"40.0\" y=\"37.5\" font-size=\"14\" text-anchor=\"middle\" fill=\"green\" dy=\"0em\">OUTPUT</text>\n",
       "<text x=\"120.0\" y=\"37.5\" font-size=\"14\" text-anchor=\"middle\" fill=\"blue\" dy=\"0em\">OPCODE</text>\n",
       "<text x=\"200.0\" y=\"37.5\" font-size=\"14\" text-anchor=\"middle\" fill=\"red\" dy=\"0em\">INPUT</text>\n",
       "<text x=\"20\" y=\"87.5\" font-size=\"14\" style=\"font-family: courier\" fill=\"green\" dy=\"0em\">kFreq<tspan fill=\"black\"> = </tspan><tspan fill=\"blue\">linseg:k</tspan><tspan fill=\"red\">(500,0.5,400)</tspan></text>\n",
       "<text x=\"20\" y=\"187.5\" font-size=\"14\" style=\"font-family: courier\" fill=\"green\" dy=\"0em\">aSine<tspan fill=\"black\"> = </tspan><tspan fill=\"blue\">poscil:a</tspan><tspan fill=\"red\">(0.2,kFreq)</tspan></text>\n",
       "<text x=\"90\" y=\"287.5\" font-size=\"14\" style=\"font-family: courier\" fill=\"blue\" dy=\"0em\">outall<tspan fill=\"red\">(aSine)</tspan></text>\n",
       "<path d=\"M45,92.5 C40,157.5,220.0,117.5,220.0,172.5 l-7,-7 m7,7 l7,-7\" stroke=\"gray\" fill=\"none\" />\n",
       "<path d=\"M45,192.5 C40,257.5,170.0,217.5,170.0,272.5 l-7,-7 m7,7 l7,-7\" stroke=\"gray\" fill=\"none\" />\n",
       "</svg>"
      ],
      "text/plain": [
       "<draw2Svg.drawing.Drawing at 0x7f6844b31ac0>"
      ]
     },
     "execution_count": 28,
     "metadata": {},
     "output_type": "execute_result"
    }
   ],
   "source": [
    "wdth,hght = 400,300\n",
    "d = dw.Drawing(wdth,hght)\n",
    "\n",
    "y_raster = [i/6*hght+hght/8 for i in range(6)]\n",
    "x_left = 20\n",
    "x_io_raster = [wdth*0.1,wdth*0.3,wdth*0.5]\n",
    "\n",
    "# text on top\n",
    "#for i,title in enumerate(['OUTPUT','OPCODE','INPUT']):\n",
    "d.append(dw.Text('OUTPUT',14,x_io_raster[0],y_raster[0],text_anchor='middle',fill='green'))\n",
    "d.append(dw.Text('OPCODE',14,x_io_raster[1],y_raster[0],text_anchor='middle',fill='blue'))\n",
    "d.append(dw.Text('INPUT',14,x_io_raster[2],y_raster[0],text_anchor='middle',fill='red'))\n",
    "\n",
    "# code lines\n",
    "code = ['kFreq = linseg:k(500,0.5,400)','aSine = poscil:a(0.2,kFreq)','outall(aSine)']\n",
    "line = dw.Text('kFreq',14,x_left,y_raster[1],style='font-family: courier',fill='green')\n",
    "line.append(dw.TSpan(' = ',fill='black'))\n",
    "line.append(dw.TSpan('linseg:k',fill='blue'))\n",
    "line.append(dw.TSpan('(500,0.5,400)',fill='red'))\n",
    "d.append(line)\n",
    "\n",
    "line = dw.Text('aSine',14,x_left,y_raster[3],style='font-family: courier',fill='green')\n",
    "line.append(dw.TSpan(' = ',fill='black'))\n",
    "line.append(dw.TSpan('poscil:a',fill='blue'))\n",
    "line.append(dw.TSpan('(0.2,kFreq)',fill='red'))\n",
    "d.append(line)\n",
    "\n",
    "line = dw.Text('outall',14,90,y_raster[5],style='font-family: courier',fill='blue')\n",
    "line.append(dw.TSpan('(aSine)',fill='red'))\n",
    "d.append(line)\n",
    "\n",
    "#d.append(dw.Text(code[0],14,x_left,y_raster[1],style='font-family: courier'))\n",
    "#d.append(dw.Text(code[1],14,x_left,y_raster[3],style='font-family: courier'))\n",
    "#d.append(dw.Text(code[2],14,90,y_raster[5],style='font-family: courier'))\n",
    "\n",
    "# connecting curves\n",
    "p = dw.Path(stroke='gray',fill='none')\n",
    "p.M(x_left+25,y_raster[1]+5)\n",
    "cp1 = x_left+20,y_raster[2]+20\n",
    "cp2 = x_io_raster[2]+20,y_raster[2]-20\n",
    "p.C(*cp1,*cp2,x_io_raster[2]+20,y_raster[3]-15)\n",
    "p.l(-7,-7)\n",
    "p.m(7,7)\n",
    "p.l(7,-7)\n",
    "d.append(p)\n",
    "\n",
    "p = dw.Path(stroke='gray',fill='none')\n",
    "p.M(x_left+25,y_raster[3]+5)\n",
    "cp1 = x_left+20,y_raster[4]+20\n",
    "cp2 = x_io_raster[2]-30,y_raster[4]-20\n",
    "p.C(*cp1,*cp2,x_io_raster[2]-30,y_raster[5]-15)\n",
    "p.l(-7,-7)\n",
    "p.m(7,7)\n",
    "p.l(7,-7)\n",
    "d.append(p)\n",
    "\n",
    "d.setPixelScale(1.5)\n",
    "#d.saveSvg('../../images/01-GS-02-a.svg')\n",
    "d.savePng('../../images/01-GS-02-c.png')\n",
    "d"
   ]
  },
  {
   "cell_type": "code",
   "execution_count": null,
   "id": "broad-promotion",
   "metadata": {},
   "outputs": [],
   "source": []
  }
 ],
 "metadata": {
  "kernelspec": {
   "display_name": "Python 3 (ipykernel)",
   "language": "python",
   "name": "python3"
  },
  "language_info": {
   "codemirror_mode": {
    "name": "ipython",
    "version": 3
   },
   "file_extension": ".py",
   "mimetype": "text/x-python",
   "name": "python",
   "nbconvert_exporter": "python",
   "pygments_lexer": "ipython3",
   "version": "3.9.2"
  }
 },
 "nbformat": 4,
 "nbformat_minor": 5
}
