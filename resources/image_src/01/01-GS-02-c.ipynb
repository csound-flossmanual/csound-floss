{
 "cells": [
  {
   "cell_type": "code",
   "execution_count": 1,
   "id": "conditional-lancaster",
   "metadata": {},
   "outputs": [],
   "source": [
    "import draw2Svg as dw"
   ]
  },
  {
   "cell_type": "code",
   "execution_count": 38,
   "id": "cheap-postage",
   "metadata": {},
   "outputs": [
    {
     "data": {
      "image/svg+xml": [
       "<?xml version=\"1.0\" encoding=\"UTF-8\"?>\n",
       "<svg xmlns=\"http://www.w3.org/2000/svg\" xmlns:xlink=\"http://www.w3.org/1999/xlink\"\n",
       "     width=\"600.0\" height=\"300.0\" viewBox=\"0 0 400 200\">\n",
       "<defs>\n",
       "</defs>\n",
       "<path d=\"M30,20 L30,180 L380,180\" stroke=\"black\" fill=\"none\" />\n",
       "<path d=\"M30,180.0 L25,180.0\" stroke=\"black\" />\n",
       "<text x=\"25\" y=\"180.0\" font-size=\"12\" text-anchor=\"end\" dy=\"0.4em\">0</text>\n",
       "<path d=\"M30,150.0 L25,150.0\" stroke=\"black\" />\n",
       "<text x=\"25\" y=\"150.0\" font-size=\"12\" text-anchor=\"end\" dy=\"0.4em\">100</text>\n",
       "<path d=\"M30,120.0 L25,120.0\" stroke=\"black\" />\n",
       "<text x=\"25\" y=\"120.0\" font-size=\"12\" text-anchor=\"end\" dy=\"0.4em\">200</text>\n",
       "<path d=\"M30,90.0 L25,90.0\" stroke=\"black\" />\n",
       "<text x=\"25\" y=\"90.0\" font-size=\"12\" text-anchor=\"end\" dy=\"0.4em\">300</text>\n",
       "<path d=\"M30,60.0 L25,60.0\" stroke=\"black\" />\n",
       "<text x=\"25\" y=\"60.0\" font-size=\"12\" text-anchor=\"end\" dy=\"0.4em\">400</text>\n",
       "<path d=\"M30,30.0 L25,30.0\" stroke=\"black\" />\n",
       "<text x=\"25\" y=\"30.0\" font-size=\"12\" text-anchor=\"end\" dy=\"0.4em\">500</text>\n",
       "<path d=\"M30,30.0 L106.92307692307692,60.0 L337.6923076923077,60.0\" fill=\"none\" stroke=\"black\" stroke-dasharray=\"3 3\" stroke-width=\"1.5\" />\n",
       "<path d=\"M30,30.0 L337.6923076923077,150.0\" fill=\"none\" stroke=\"black\" stroke-width=\"1.5\" />\n",
       "<text x=\"291.53846153846155\" y=\"55\" font-size=\"10\" dy=\"0em\">linseg</text>\n",
       "<text x=\"322.30769230769226\" y=\"20\" font-size=\"10\" transform=\"rotate(20)\" dy=\"0em\">line</text>\n",
       "<path d=\"M30,180 v5 M106.92307692307692,180 v5 M183.84615384615384,180 v5 M260.7692307692308,180 v5 M337.6923076923077,180 v5\" stroke=\"black\" stroke-width=\"1\" />\n",
       "<text x=\"30\" y=\"185\" font-size=\"12\" text-anchor=\"middle\" dy=\"1em\">0</text>\n",
       "<text x=\"106.92307692307692\" y=\"185\" font-size=\"12\" text-anchor=\"middle\" dy=\"1em\">0.5</text>\n",
       "<text x=\"183.84615384615384\" y=\"185\" font-size=\"12\" text-anchor=\"middle\" dy=\"1em\">1</text>\n",
       "<text x=\"260.7692307692308\" y=\"185\" font-size=\"12\" text-anchor=\"middle\" dy=\"1em\">1.5</text>\n",
       "<text x=\"337.6923076923077\" y=\"185\" font-size=\"12\" text-anchor=\"middle\" dy=\"1em\">2</text>\n",
       "<text x=\"395\" y=\"185\" font-size=\"12\" text-anchor=\"end\" dy=\"1em\">time (s)</text>\n",
       "</svg>"
      ],
      "text/plain": [
       "<draw2Svg.drawing.Drawing at 0x7f2df469edf0>"
      ]
     },
     "execution_count": 38,
     "metadata": {},
     "output_type": "execute_result"
    }
   ],
   "source": [
    "wdth,hght = 400,200\n",
    "d = dw.Drawing(wdth,hght)\n",
    "\n",
    "# axes\n",
    "x_left = 30\n",
    "x_right = wdth-20\n",
    "y_up = 20\n",
    "y_down = hght-20\n",
    "d.append(dw.Lines(x_left,y_up,x_left,y_down,x_right,y_down,stroke='black',fill='none'))\n",
    "\n",
    "# y grid\n",
    "y_grid = [y_down-i*(y_down-y_up-10)/5 for i in range(6)]\n",
    "#print(y_grid)\n",
    "    \n",
    "# ticks left\n",
    "ticklen = 5\n",
    "for i in range(6):\n",
    "    y = y_grid[i]\n",
    "    d.append(dw.Line(x_left,y,x_left-ticklen,y,stroke='black'))\n",
    "    d.append(dw.Text('%d'%(i*100),12,x_left-ticklen,y,valign='middle',text_anchor='end'))\n",
    "\n",
    "\n",
    "\n",
    "# line\n",
    "x_sec = wdth/2.6\n",
    "d.append(dw.Lines(x_left,y_grid[5],x_left+x_sec/2,y_grid[4],x_left+x_sec*2,y_grid[4],\n",
    "                  fill='none',stroke='black',stroke_dasharray='3 3',stroke_width=1.5))\n",
    "d.append(dw.Lines(x_left,y_grid[5],x_left+x_sec*2,y_grid[1],\n",
    "                  fill='none',stroke='black',stroke_width=1.5))\n",
    "\n",
    "# comment\n",
    "d.append(dw.Text('linseg',10,x_left+1.7*x_sec,55))\n",
    "d.append(dw.Text('line',10,x_left+1.9*x_sec,20,transform='rotate(20)'))\n",
    "\n",
    "\n",
    "# ticks x\n",
    "t = dw.Path(stroke='black',stroke_width=1)\n",
    "t.M(x_left,y_down)\n",
    "t.v(ticklen)\n",
    "t.M(x_left+x_sec/2,y_down)\n",
    "t.v(ticklen)\n",
    "t.M(x_left+x_sec,y_down)\n",
    "t.v(ticklen)\n",
    "t.M(x_left+x_sec*1.5,y_down)\n",
    "t.v(ticklen)\n",
    "t.M(x_left+x_sec*2,y_down)\n",
    "t.v(ticklen)\n",
    "d.append(t)\n",
    "\n",
    "# text\n",
    "#d.append(dw.Text('400',12,x_left-ticklen,y_bottom,valign='middle',text_anchor='end'))\n",
    "d.append(dw.Text('0',12,x_left,y_down+ticklen,valign='top',text_anchor='middle'))\n",
    "d.append(dw.Text('0.5',12,x_left+x_sec/2,y_down+ticklen,valign='top',text_anchor='middle'))\n",
    "d.append(dw.Text('1',12,x_left+x_sec,y_down+ticklen,valign='top',text_anchor='middle'))\n",
    "d.append(dw.Text('1.5',12,x_left+x_sec*1.5,y_down+ticklen,valign='top',text_anchor='middle'))\n",
    "d.append(dw.Text('2',12,x_left+x_sec*2,y_down+ticklen,valign='top',text_anchor='middle'))\n",
    "d.append(dw.Text('time (s)',12,wdth-5,y_down+ticklen,valign='top',text_anchor='end'))\n",
    "\n",
    "d.setPixelScale(1.5)\n",
    "#d.saveSvg('../../images/01-GS-02-c.svg')\n",
    "d.savePng('../../images/01-GS-02-c.png')\n",
    "d"
   ]
  },
  {
   "cell_type": "code",
   "execution_count": null,
   "id": "national-briefs",
   "metadata": {},
   "outputs": [],
   "source": []
  }
 ],
 "metadata": {
  "kernelspec": {
   "display_name": "Python 3",
   "language": "python",
   "name": "python3"
  },
  "language_info": {
   "codemirror_mode": {
    "name": "ipython",
    "version": 3
   },
   "file_extension": ".py",
   "mimetype": "text/x-python",
   "name": "python",
   "nbconvert_exporter": "python",
   "pygments_lexer": "ipython3",
   "version": "3.9.2"
  }
 },
 "nbformat": 4,
 "nbformat_minor": 5
}
