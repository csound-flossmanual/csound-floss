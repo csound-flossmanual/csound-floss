{
 "cells": [
  {
   "cell_type": "code",
   "execution_count": 1,
   "id": "manual-security",
   "metadata": {},
   "outputs": [],
   "source": [
    "import draw2Svg as dw"
   ]
  },
  {
   "cell_type": "code",
   "execution_count": 43,
   "id": "purple-yorkshire",
   "metadata": {},
   "outputs": [
    {
     "data": {
      "image/svg+xml": [
       "<?xml version=\"1.0\" encoding=\"UTF-8\"?>\n",
       "<svg xmlns=\"http://www.w3.org/2000/svg\" xmlns:xlink=\"http://www.w3.org/1999/xlink\"\n",
       "     width=\"500\" height=\"200\" viewBox=\"0 0 500 200\">\n",
       "<defs>\n",
       "</defs>\n",
       "<path d=\"M10,100.0 L490,100.0\" stroke=\"gray\" />\n",
       "<path d=\"M10,100.0 L60.0,10 L365.0,10 L490,100.0\" stroke=\"black\" fill=\"none\" />\n",
       "<path d=\"M60.0,10 L60.0,100.0\" stroke=\"gray\" stroke-dasharray=\"3 5\" />\n",
       "<path d=\"M365.0,10 L365.0,100.0\" stroke=\"gray\" stroke-dasharray=\"3 5\" />\n",
       "<text x=\"35.0\" y=\"140.0\" font-size=\"16\" text-anchor=\"middle\" dy=\"0em\">(1)</text>\n",
       "<text x=\"427.5\" y=\"140.0\" font-size=\"16\" text-anchor=\"middle\" dy=\"0em\">(3)</text>\n",
       "<text x=\"250.0\" y=\"180\" font-size=\"16\" text-anchor=\"middle\" dy=\"0em\">(2)</text>\n",
       "<path d=\"M10,140.0 v-12 M60.0,140.0 v-12 M365.0,140.0 v-12 M490,140.0 v-12 M10,180 v-12 M490,180 v-12\" stroke=\"black\" stroke-width=\"0.6666666666666666\" />\n",
       "<path d=\"M10,134.0 h13 M60.0,134.0 h-13 M365.0,134.0 h50 M490,134.0 h-50 M10,174.0 h225.0 M490,174.0 h-225.0\" stroke=\"black\" stroke-width=\"0.6666666666666666\" />\n",
       "</svg>"
      ],
      "text/plain": [
       "<draw2Svg.drawing.Drawing at 0x7f9dfb64c9a0>"
      ]
     },
     "execution_count": 43,
     "metadata": {},
     "output_type": "execute_result"
    }
   ],
   "source": [
    "w,h = 500,200\n",
    "d = dw.Drawing(w,h)\n",
    "\n",
    "marg = 10\n",
    "\n",
    "# baseline\n",
    "y = h/2\n",
    "d.append(dw.Line(marg,y,w-marg,y,stroke='gray'))\n",
    "\n",
    "# shape\n",
    "y_top = marg\n",
    "fadein = w/10\n",
    "fadeout = w/4\n",
    "d.append(dw.Lines(marg,y,marg+fadein,y_top,w-marg-fadeout,y_top,w-marg,y,\n",
    "                 stroke='black',fill='none'))\n",
    "\n",
    "# dotted lines\n",
    "d.append(dw.Line(marg+fadein,y_top,marg+fadein,y,stroke='gray',stroke_dasharray='3 5'))\n",
    "d.append(dw.Line(w-marg-fadeout,y_top,w-marg-fadeout,y,stroke='gray',stroke_dasharray='3 5'))\n",
    "\n",
    "# text\n",
    "text1_x = marg + fadein/2\n",
    "text2_x = w/2\n",
    "text3_x = w-marg - fadeout/2\n",
    "text13_y = y + h/5\n",
    "text2_y = h - marg*2\n",
    "size = 16\n",
    "d.append(dw.Text('(1)',size,text1_x,text13_y,text_anchor='middle'))\n",
    "d.append(dw.Text('(3)',size,text3_x,text13_y,text_anchor='middle'))\n",
    "d.append(dw.Text('(2)',size,text2_x,text2_y,text_anchor='middle'))\n",
    "\n",
    "# vertical rulers\n",
    "vh = size-4\n",
    "p = dw.Path(stroke='black',stroke_width=2/3)\n",
    "p.M(marg,text13_y).v(-vh)\n",
    "p.M(marg+fadein,text13_y).v(-vh)\n",
    "p.M(w-marg-fadeout,text13_y).v(-vh)\n",
    "p.M(w-marg,text13_y).v(-vh)\n",
    "p.M(marg,text2_y).v(-vh)\n",
    "p.M(w-marg,text2_y).v(-vh)\n",
    "d.append(p)\n",
    "\n",
    "# horizontal connecting lines\n",
    "p = dw.Path(stroke='black',stroke_width=2/3)\n",
    "y = text13_y - vh/2\n",
    "p.M(marg,y).h(13)\n",
    "p.M(marg+fadein,y).h(-13)\n",
    "p.M(w-marg-fadeout,y).h(50)\n",
    "p.M(w-marg,y).h(-50)\n",
    "y = text2_y - vh/2\n",
    "p.M(marg,y).h(w/2-25)\n",
    "p.M(w-marg,y).h(-w/2+25)\n",
    "d.append(p)\n",
    "\n",
    "d.savePng('../../images/01-GS-04-b.png')\n",
    "d"
   ]
  },
  {
   "cell_type": "code",
   "execution_count": null,
   "id": "infinite-creativity",
   "metadata": {},
   "outputs": [],
   "source": []
  }
 ],
 "metadata": {
  "kernelspec": {
   "display_name": "Python 3",
   "language": "python",
   "name": "python3"
  },
  "language_info": {
   "codemirror_mode": {
    "name": "ipython",
    "version": 3
   },
   "file_extension": ".py",
   "mimetype": "text/x-python",
   "name": "python",
   "nbconvert_exporter": "python",
   "pygments_lexer": "ipython3",
   "version": "3.9.2"
  }
 },
 "nbformat": 4,
 "nbformat_minor": 5
}
