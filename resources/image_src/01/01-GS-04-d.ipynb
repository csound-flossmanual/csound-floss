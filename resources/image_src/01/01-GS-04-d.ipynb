{
 "cells": [
  {
   "cell_type": "code",
   "execution_count": 1,
   "id": "manual-security",
   "metadata": {},
   "outputs": [],
   "source": [
    "import draw2Svg as dw"
   ]
  },
  {
   "cell_type": "code",
   "execution_count": 16,
   "id": "purple-yorkshire",
   "metadata": {},
   "outputs": [
    {
     "data": {
      "image/svg+xml": [
       "<?xml version=\"1.0\" encoding=\"UTF-8\"?>\n",
       "<svg xmlns=\"http://www.w3.org/2000/svg\" xmlns:xlink=\"http://www.w3.org/1999/xlink\"\n",
       "     width=\"500\" height=\"100\" viewBox=\"0 0 500 100\">\n",
       "<defs>\n",
       "</defs>\n",
       "<path d=\"M12,95 L495,95\" stroke=\"gray\" />\n",
       "<path d=\"M12,95 L62.0,12 L363.0,12 L495,95\" stroke=\"black\" fill=\"none\" />\n",
       "<path d=\"M62.0,12 L62.0,95\" stroke=\"gray\" stroke-dasharray=\"3 5\" />\n",
       "<path d=\"M363.0,12 L363.0,95\" stroke=\"gray\" stroke-dasharray=\"3 5\" />\n",
       "<text x=\"0\" y=\"93\" font-size=\"16\" dy=\"0.4em\">0</text>\n",
       "<text x=\"45.0\" y=\"12\" font-size=\"16\" dy=\"0.4em\">1</text>\n",
       "</svg>"
      ],
      "text/plain": [
       "<draw2Svg.drawing.Drawing at 0x7f98eb8b0eb0>"
      ]
     },
     "execution_count": 16,
     "metadata": {},
     "output_type": "execute_result"
    }
   ],
   "source": [
    "w,h = 500,100\n",
    "d = dw.Drawing(w,h)\n",
    "\n",
    "marg = 12\n",
    "\n",
    "# baseline\n",
    "y = h-5\n",
    "d.append(dw.Line(marg,y,w-5,y,stroke='gray'))\n",
    "\n",
    "# shape\n",
    "y_top = marg\n",
    "fadein = w/10\n",
    "fadeout = w/4\n",
    "d.append(dw.Lines(marg,y,marg+fadein,y_top,w-marg-fadeout,y_top,w-5,y,\n",
    "                 stroke='black',fill='none'))\n",
    "\n",
    "# dotted lines\n",
    "d.append(dw.Line(marg+fadein,y_top,marg+fadein,y,stroke='gray',stroke_dasharray='3 5'))\n",
    "d.append(dw.Line(w-marg-fadeout,y_top,w-marg-fadeout,y,stroke='gray',stroke_dasharray='3 5'))\n",
    "\n",
    "# text\n",
    "d.append(dw.Text('0',16,0,y-2,valign='middle'))\n",
    "d.append(dw.Text('1',16,fadein-5,marg,valign='middle'))\n",
    "\n",
    "d.savePng('../../images/01-GS-04-d.png')\n",
    "d"
   ]
  },
  {
   "cell_type": "code",
   "execution_count": null,
   "id": "infinite-creativity",
   "metadata": {},
   "outputs": [],
   "source": []
  }
 ],
 "metadata": {
  "kernelspec": {
   "display_name": "Python 3",
   "language": "python",
   "name": "python3"
  },
  "language_info": {
   "codemirror_mode": {
    "name": "ipython",
    "version": 3
   },
   "file_extension": ".py",
   "mimetype": "text/x-python",
   "name": "python",
   "nbconvert_exporter": "python",
   "pygments_lexer": "ipython3",
   "version": "3.9.2"
  }
 },
 "nbformat": 4,
 "nbformat_minor": 5
}
