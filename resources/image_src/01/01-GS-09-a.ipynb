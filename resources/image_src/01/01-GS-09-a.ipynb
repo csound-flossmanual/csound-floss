{
 "cells": [
  {
   "cell_type": "code",
   "execution_count": 1,
   "id": "nutritional-register",
   "metadata": {},
   "outputs": [],
   "source": [
    "import draw2Svg as dw"
   ]
  },
  {
   "cell_type": "code",
   "execution_count": 11,
   "id": "unlikely-unemployment",
   "metadata": {},
   "outputs": [
    {
     "data": {
      "image/svg+xml": [
       "<?xml version=\"1.0\" encoding=\"UTF-8\"?>\n",
       "<svg xmlns=\"http://www.w3.org/2000/svg\" xmlns:xlink=\"http://www.w3.org/1999/xlink\"\n",
       "     width=\"800\" height=\"300\" viewBox=\"0 0 800 300\">\n",
       "<defs>\n",
       "<path d=\"M0,-5 C130.0,-65.0,-65.0,-260.0,65.0,-265.0 l-5,5 m5,-5 l-5,-5\" fill=\"none\" stroke=\"black\" id=\"d0\" />\n",
       "</defs>\n",
       "<text x=\"5\" y=\"150.0\" font-size=\"14\" dy=\"0em\">question</text>\n",
       "<text x=\"5\" y=\"215.0\" font-size=\"14\" dy=\"0em\">answer</text>\n",
       "<text x=\"5\" y=\"280.0\" font-size=\"14\" dy=\"0em\">result</text>\n",
       "<text x=\"5\" y=\"85.0\" font-size=\"14\" font-style=\"italic\" dy=\"0em\">iCount</text>\n",
       "<text x=\"105.0\" y=\"20.0\" font-size=\"14\" text-anchor=\"middle\" dy=\"0em\">instance 1</text>\n",
       "<text x=\"105.0\" y=\"85.0\" font-size=\"14\" text-anchor=\"middle\" dy=\"0em\">6</text>\n",
       "<text x=\"105.0\" y=\"150.0\" font-size=\"14\" text-anchor=\"middle\" dy=\"0em\">6 &gt; 1 ?</text>\n",
       "<text x=\"105.0\" y=\"215.0\" font-size=\"14\" text-anchor=\"middle\" dy=\"0em\">yes</text>\n",
       "<text x=\"105.0\" y=\"280.0\" font-size=\"14\" text-anchor=\"middle\" dy=\"0em\">call</text>\n",
       "<text x=\"235.0\" y=\"20.0\" font-size=\"14\" text-anchor=\"middle\" dy=\"0em\">instance 2</text>\n",
       "<text x=\"235.0\" y=\"85.0\" font-size=\"14\" text-anchor=\"middle\" dy=\"0em\">5</text>\n",
       "<text x=\"235.0\" y=\"150.0\" font-size=\"14\" text-anchor=\"middle\" dy=\"0em\">5 &gt; 1 ?</text>\n",
       "<text x=\"235.0\" y=\"215.0\" font-size=\"14\" text-anchor=\"middle\" dy=\"0em\">yes</text>\n",
       "<text x=\"235.0\" y=\"280.0\" font-size=\"14\" text-anchor=\"middle\" dy=\"0em\">call</text>\n",
       "<text x=\"365.0\" y=\"20.0\" font-size=\"14\" text-anchor=\"middle\" dy=\"0em\">instance 3</text>\n",
       "<text x=\"365.0\" y=\"85.0\" font-size=\"14\" text-anchor=\"middle\" dy=\"0em\">4</text>\n",
       "<text x=\"365.0\" y=\"150.0\" font-size=\"14\" text-anchor=\"middle\" dy=\"0em\">4 &gt; 1 ?</text>\n",
       "<text x=\"365.0\" y=\"215.0\" font-size=\"14\" text-anchor=\"middle\" dy=\"0em\">yes</text>\n",
       "<text x=\"365.0\" y=\"280.0\" font-size=\"14\" text-anchor=\"middle\" dy=\"0em\">call</text>\n",
       "<text x=\"495.0\" y=\"20.0\" font-size=\"14\" text-anchor=\"middle\" dy=\"0em\">instance 4</text>\n",
       "<text x=\"495.0\" y=\"85.0\" font-size=\"14\" text-anchor=\"middle\" dy=\"0em\">3</text>\n",
       "<text x=\"495.0\" y=\"150.0\" font-size=\"14\" text-anchor=\"middle\" dy=\"0em\">3 &gt; 1 ?</text>\n",
       "<text x=\"495.0\" y=\"215.0\" font-size=\"14\" text-anchor=\"middle\" dy=\"0em\">yes</text>\n",
       "<text x=\"495.0\" y=\"280.0\" font-size=\"14\" text-anchor=\"middle\" dy=\"0em\">call</text>\n",
       "<text x=\"625.0\" y=\"20.0\" font-size=\"14\" text-anchor=\"middle\" dy=\"0em\">instance 5</text>\n",
       "<text x=\"625.0\" y=\"85.0\" font-size=\"14\" text-anchor=\"middle\" dy=\"0em\">2</text>\n",
       "<text x=\"625.0\" y=\"150.0\" font-size=\"14\" text-anchor=\"middle\" dy=\"0em\">2 &gt; 1 ?</text>\n",
       "<text x=\"625.0\" y=\"215.0\" font-size=\"14\" text-anchor=\"middle\" dy=\"0em\">yes</text>\n",
       "<text x=\"625.0\" y=\"280.0\" font-size=\"14\" text-anchor=\"middle\" dy=\"0em\">call</text>\n",
       "<text x=\"755.0\" y=\"20.0\" font-size=\"14\" text-anchor=\"middle\" dy=\"0em\">instance 6</text>\n",
       "<text x=\"755.0\" y=\"85.0\" font-size=\"14\" text-anchor=\"middle\" dy=\"0em\">1</text>\n",
       "<text x=\"755.0\" y=\"150.0\" font-size=\"14\" text-anchor=\"middle\" dy=\"0em\">1 &gt; 1 ?</text>\n",
       "<text x=\"755.0\" y=\"215.0\" font-size=\"14\" text-anchor=\"middle\" dy=\"0em\">no</text>\n",
       "<text x=\"755.0\" y=\"280.0\" font-size=\"14\" text-anchor=\"middle\" dy=\"0em\">do nothing</text>\n",
       "<use xlink:href=\"#d0\" x=\"126.66666666666666\" y=\"280.0\" />\n",
       "<use xlink:href=\"#d0\" x=\"256.6666666666667\" y=\"280.0\" />\n",
       "<use xlink:href=\"#d0\" x=\"386.6666666666667\" y=\"280.0\" />\n",
       "<use xlink:href=\"#d0\" x=\"516.6666666666666\" y=\"280.0\" />\n",
       "<use xlink:href=\"#d0\" x=\"646.6666666666666\" y=\"280.0\" />\n",
       "</svg>"
      ],
      "text/plain": [
       "<draw2Svg.drawing.Drawing at 0x7f1256b51610>"
      ]
     },
     "execution_count": 11,
     "metadata": {},
     "output_type": "execute_result"
    }
   ],
   "source": [
    "wdth,hght = 800,300\n",
    "d = dw.Drawing(wdth,hght)\n",
    "\n",
    "def grid(num,length=800,margin_1=40,margin_2=41):\n",
    "    \"\"\"returns a list of num grid values between\n",
    "    margin_1 and height-margin_2 which are subtracted from length.\n",
    "    for horizontal, it counts from left to right\n",
    "    for vertical, it counts from top to bottom\"\"\"\n",
    "    real_length = length - margin_1 - margin_2\n",
    "    grid_step = real_length / (num-1)\n",
    "    return [i*grid_step+margin_1 for i in range(num)]\n",
    "\n",
    "x_grid = grid(6,wdth,margin_2=110)\n",
    "x_grid_wdth = x_grid[1] - x_grid[0]\n",
    "y_grid = grid(5,hght,20,20)\n",
    "y_grid_hght = y_grid[1] - y_grid[0]\n",
    "\n",
    "textsize = 14\n",
    "\n",
    "text_left = ['question','answer','result']\n",
    "for i in range(3):\n",
    "    d.append(dw.Text(text_left[i],textsize,5,y_grid[i+2]))\n",
    "d.append(dw.Text('iCount',textsize,5,y_grid[1],font_style='italic'))\n",
    "    \n",
    "for i,x in enumerate(x_grid):\n",
    "    x += x_grid_wdth / 2\n",
    "    d.append(dw.Text('instance %d'%(i+1),textsize,x,y_grid[0],text_anchor='middle'))\n",
    "    d.append(dw.Text(str(6-i),textsize,x,y_grid[1],text_anchor='middle'))\n",
    "    d.append(dw.Text('%d > 1 ?'%(6-i),textsize,x,y_grid[2],text_anchor='middle'))\n",
    "    if i<5: answer,result = 'yes','call'\n",
    "    else: answer,result = 'no','do nothing'\n",
    "    d.append(dw.Text(answer,textsize,x,y_grid[3],text_anchor='middle'))\n",
    "    d.append(dw.Text(result,textsize,x,y_grid[4],text_anchor='middle'))\n",
    "\n",
    "p = dw.Path(fill='none',stroke='black')\n",
    "p.M(0,-5)\n",
    "p.C(x_grid_wdth,-y_grid_hght, -x_grid_wdth/2,-y_grid_hght*4, x_grid_wdth/2,-y_grid_hght*4-5)\n",
    "alen = 5\n",
    "p.l(-alen,alen)\n",
    "p.m(alen,-alen)\n",
    "p.l(-alen,-alen)\n",
    "\n",
    "for i in range(1,6):\n",
    "    d.append(dw.Use(p,x_grid[i]-x_grid_wdth/3,y_grid[4]))\n",
    "\n",
    "d.savePng('../../images/01-GS-09-a.png')\n",
    "d"
   ]
  },
  {
   "cell_type": "code",
   "execution_count": null,
   "id": "curious-pharmacology",
   "metadata": {},
   "outputs": [],
   "source": []
  }
 ],
 "metadata": {
  "kernelspec": {
   "display_name": "Python 3",
   "language": "python",
   "name": "python3"
  },
  "language_info": {
   "codemirror_mode": {
    "name": "ipython",
    "version": 3
   },
   "file_extension": ".py",
   "mimetype": "text/x-python",
   "name": "python",
   "nbconvert_exporter": "python",
   "pygments_lexer": "ipython3",
   "version": "3.9.2"
  }
 },
 "nbformat": 4,
 "nbformat_minor": 5
}
