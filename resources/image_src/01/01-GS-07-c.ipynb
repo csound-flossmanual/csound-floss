{
 "cells": [
  {
   "cell_type": "code",
   "execution_count": 1,
   "id": "bulgarian-ready",
   "metadata": {},
   "outputs": [],
   "source": [
    "import draw2Svg as dw"
   ]
  },
  {
   "cell_type": "code",
   "execution_count": 42,
   "id": "running-symposium",
   "metadata": {},
   "outputs": [
    {
     "data": {
      "image/svg+xml": [
       "<?xml version=\"1.0\" encoding=\"UTF-8\"?>\n",
       "<svg xmlns=\"http://www.w3.org/2000/svg\" xmlns:xlink=\"http://www.w3.org/1999/xlink\"\n",
       "     width=\"780.0\" height=\"390.0\" viewBox=\"0 0 600 300\">\n",
       "<defs>\n",
       "</defs>\n",
       "<text x=\"10.0\" y=\"20.0\" font-size=\"14\" font-family=\"courier\" text-anchor=\"middle\" font-weight=\"bold\" dy=\"0em\"></text>\n",
       "<text x=\"10.0\" y=\"53.75\" font-size=\"14\" font-family=\"courier\" text-anchor=\"middle\" dy=\"0em\">i</text>\n",
       "<text x=\"68.0\" y=\"20.0\" font-size=\"14\" font-family=\"courier\" text-anchor=\"middle\" font-weight=\"bold\" dy=\"0em\">p1</text>\n",
       "<text x=\"68.0\" y=\"53.75\" font-size=\"14\" font-family=\"courier\" text-anchor=\"middle\" dy=\"0em\">\"Hello\"</text>\n",
       "<text x=\"126.0\" y=\"20.0\" font-size=\"14\" font-family=\"courier\" text-anchor=\"middle\" font-weight=\"bold\" dy=\"0em\">p2</text>\n",
       "<text x=\"126.0\" y=\"53.75\" font-size=\"14\" font-family=\"courier\" text-anchor=\"middle\" dy=\"0em\">0</text>\n",
       "<text x=\"184.0\" y=\"20.0\" font-size=\"14\" font-family=\"courier\" text-anchor=\"middle\" font-weight=\"bold\" dy=\"0em\">p3</text>\n",
       "<text x=\"184.0\" y=\"53.75\" font-size=\"14\" font-family=\"courier\" text-anchor=\"middle\" dy=\"0em\">2</text>\n",
       "<text x=\"242.0\" y=\"20.0\" font-size=\"14\" font-family=\"courier\" text-anchor=\"middle\" font-weight=\"bold\" dy=\"0em\">p4</text>\n",
       "<text x=\"242.0\" y=\"53.75\" font-size=\"14\" font-family=\"courier\" text-anchor=\"middle\" dy=\"0em\">72</text>\n",
       "<text x=\"300.0\" y=\"20.0\" font-size=\"14\" font-family=\"courier\" text-anchor=\"middle\" font-weight=\"bold\" dy=\"0em\">p5</text>\n",
       "<text x=\"300.0\" y=\"53.75\" font-size=\"14\" font-family=\"courier\" text-anchor=\"middle\" dy=\"0em\">68</text>\n",
       "<text x=\"10.0\" y=\"155.0\" font-size=\"14\" font-family=\"courier\" dy=\"0em\">instr Hello</text>\n",
       "<text x=\"27.4\" y=\"188.75\" font-size=\"14\" font-family=\"courier\" dy=\"0em\">iMidiStart =</text>\n",
       "<text x=\"143.39999999999998\" y=\"188.75\" font-size=\"14\" font-family=\"courier\" font-weight=\"bold\" dy=\"0em\">p4</text>\n",
       "<text x=\"24.5\" y=\"212.375\" font-size=\"14\" font-family=\"courier\" dy=\"0em\">iMidiEnd = </text>\n",
       "<text x=\"121.94\" y=\"212.375\" font-size=\"14\" font-family=\"courier\" font-weight=\"bold\" dy=\"0em\">p5</text>\n",
       "<text x=\"27.4\" y=\"236.0\" font-size=\"14\" font-family=\"courier\" dy=\"0em\">...</text>\n",
       "<text x=\"10.0\" y=\"269.75\" font-size=\"14\" font-family=\"courier\" dy=\"0em\">endin</text>\n",
       "<path d=\"M242.0,57.125 Q242.0,171.875,164.28,185.375 m5,-5 l-5,5 l5,5 M300.0,57.125 Q300.0,188.75,143.39999999999998,209.0 m5,-5 l-5,5 l5,5\" stroke=\"gray\" fill=\"none\" />\n",
       "<path d=\"M0,87.5 L600,87.5\" stroke=\"black\" stroke-width=\"0.5\" />\n",
       "<text x=\"416.0\" y=\"53.75\" font-size=\"18\" letter-spacing=\"2\" dy=\"0em\">SCORE</text>\n",
       "<text x=\"416.0\" y=\"188.75\" font-size=\"18\" letter-spacing=\"2\" dy=\"0em\">ORCHESTRA</text>\n",
       "</svg>"
      ],
      "text/plain": [
       "<draw2Svg.drawing.Drawing at 0x7f99d0c63d90>"
      ]
     },
     "execution_count": 42,
     "metadata": {},
     "output_type": "execute_result"
    }
   ],
   "source": [
    "w,h = 600,300\n",
    "d = dw.Drawing(w,h)\n",
    "\n",
    "xnum = 11 # posts (= one more than divisions)\n",
    "ynum = 9\n",
    "mleft = 10\n",
    "mright = 10\n",
    "mtop = 20\n",
    "mbot = 10\n",
    "xsize = w-mleft-mright\n",
    "ysize = h-mtop-mbot\n",
    "xunit = xsize / (xnum-1)\n",
    "yunit = ysize / (ynum-1)\n",
    "\n",
    "exec(open('draw2Svg_funs.py').read())\n",
    "\n",
    "def xgrid(inval):\n",
    "    \"\"\"for xnum=4, inval is from 0 (left) to 3 (right)\n",
    "    as range to write\"\"\"\n",
    "    return scale(inval,0,xnum-1,mleft,mleft+xsize)\n",
    "\n",
    "def ygrid(inval):\n",
    "    \"\"\"for num=11, inval is from 0 (top) to 10 (bottom)\n",
    "    as range to write\"\"\"\n",
    "    return scale(inval,0,ynum-1,mtop,mtop+ysize)\n",
    "\n",
    "# score\n",
    "y0 = ygrid(0)\n",
    "y1 = ygrid(1)\n",
    "i = 0\n",
    "for p,t in zip(['','p1','p2','p3','p4','p5'],['i','\"Hello\"','0','2','72','68']):\n",
    "    text(p,xgrid(i),y0,font_family='courier',text_anchor='middle',font_weight='bold')\n",
    "    text(t,xgrid(i),y1,font_family='courier',text_anchor='middle')\n",
    "    i += 1\n",
    "\n",
    "# instr\n",
    "text('instr Hello',xgrid(0),ygrid(4),font_family='courier')\n",
    "text('iMidiStart =',xgrid(0.3),ygrid(5),font_family='courier')\n",
    "text('p4',xgrid(2.3),ygrid(5),font_family='courier',font_weight='bold')\n",
    "text('iMidiEnd = ',xgrid(0.25),ygrid(5.7),font_family='courier')\n",
    "text('p5',xgrid(1.93),ygrid(5.7),font_family='courier',font_weight='bold')\n",
    "text('...',xgrid(0.3),ygrid(6.4),font_family='courier')\n",
    "text('endin',xgrid(0),ygrid(7.4),font_family='courier')\n",
    "\n",
    "# arrows\n",
    "h = 5\n",
    "p = dw.Path(stroke='gray',fill='none')\n",
    "p.M(xgrid(4),ygrid(1.1))\n",
    "p.Q(xgrid(4),ygrid(4.5), xgrid(2.66),ygrid(4.9))\n",
    "p.m(h,-h)\n",
    "p.l(-h,h)\n",
    "p.l(h,h)\n",
    "p.M(xgrid(5),ygrid(1.1))\n",
    "p.Q(xgrid(5),ygrid(5), xgrid(2.3),ygrid(5.6))\n",
    "p.m(h,-h)\n",
    "p.l(-h,h)\n",
    "p.l(h,h)\n",
    "d.append(p)\n",
    "\n",
    "# seperation line and text right\n",
    "y = ygrid(2)\n",
    "line(0,y,w,y,stroke_width=0.5)\n",
    "siz = 18\n",
    "text('SCORE',xgrid(7),ygrid(1),siz,letter_spacing=2)\n",
    "text('ORCHESTRA',xgrid(7),ygrid(5),siz,letter_spacing=2)\n",
    "    \n",
    "d.setPixelScale(1.3)\n",
    "d.savePng('../../images/01-GS-07-c.png')\n",
    "d"
   ]
  },
  {
   "cell_type": "code",
   "execution_count": null,
   "id": "parliamentary-rugby",
   "metadata": {},
   "outputs": [],
   "source": []
  }
 ],
 "metadata": {
  "kernelspec": {
   "display_name": "Python 3",
   "language": "python",
   "name": "python3"
  },
  "language_info": {
   "codemirror_mode": {
    "name": "ipython",
    "version": 3
   },
   "file_extension": ".py",
   "mimetype": "text/x-python",
   "name": "python",
   "nbconvert_exporter": "python",
   "pygments_lexer": "ipython3",
   "version": "3.9.2"
  }
 },
 "nbformat": 4,
 "nbformat_minor": 5
}
