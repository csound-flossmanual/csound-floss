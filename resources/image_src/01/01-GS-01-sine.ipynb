{
 "cells": [
  {
   "cell_type": "code",
   "execution_count": 1,
   "id": "disciplinary-dylan",
   "metadata": {},
   "outputs": [],
   "source": [
    "import draw2Svg as dw"
   ]
  },
  {
   "cell_type": "code",
   "execution_count": 40,
   "id": "practical-lambda",
   "metadata": {},
   "outputs": [
    {
     "data": {
      "image/svg+xml": [
       "<?xml version=\"1.0\" encoding=\"UTF-8\"?>\n",
       "<svg xmlns=\"http://www.w3.org/2000/svg\" xmlns:xlink=\"http://www.w3.org/1999/xlink\"\n",
       "     width=\"900\" height=\"100\" viewBox=\"0 0 900 100\">\n",
       "<defs>\n",
       "<path d=\"M0,50 C100.0,-100,100.0,200,200,50\" stroke=\"black\" fill=\"none\" id=\"d0\" />\n",
       "</defs>\n",
       "<use xlink:href=\"#d0\" />\n",
       "<use xlink:href=\"#d0\" x=\"200\" y=\"0\" />\n",
       "<use xlink:href=\"#d0\" x=\"400\" y=\"0\" />\n",
       "<use xlink:href=\"#d0\" x=\"600\" y=\"0\" />\n",
       "<ellipse cx=\"817\" cy=\"50\" rx=\"17\" ry=\"11\" stroke=\"black\" fill=\"none\" />\n",
       "<ellipse cx=\"810\" cy=\"48\" rx=\"4\" ry=\"3\" />\n",
       "<path d=\"M815,55 C822,63,822,42,834,50\" stroke=\"black\" fill=\"none\" />\n",
       "</svg>"
      ],
      "text/plain": [
       "<draw2Svg.drawing.Drawing at 0x7f6736f6a400>"
      ]
     },
     "execution_count": 40,
     "metadata": {},
     "output_type": "execute_result"
    }
   ],
   "source": [
    "d = dw.Drawing(900,100)\n",
    "\n",
    "x_sine_start = 0\n",
    "y_sine_zero = 50\n",
    "x_period = 200\n",
    "\n",
    "p = dw.Path(stroke='black',fill='none')\n",
    "p.M(x_sine_start,y_sine_zero)\n",
    "p.C(x_sine_start+x_period/2,y_sine_zero-150,\n",
    "    x_sine_start+x_period/2,y_sine_zero+150,\n",
    "    x_sine_start+x_period,y_sine_zero)\n",
    "d.append(p)\n",
    "d.append(dw.Use(p,x_sine_start+x_period,0))\n",
    "d.append(dw.Use(p,x_sine_start+x_period*2,0))\n",
    "d.append(dw.Use(p,x_sine_start+x_period*3,0))\n",
    "\n",
    "x0 = x_sine_start+x_period*4\n",
    "y0 = y_sine_zero\n",
    "d.append(dw.Ellipse(x0+17,y0,17,11,stroke='black',fill='none'))\n",
    "d.append(dw.Ellipse(x0+10,y0-2,4,3))\n",
    "\n",
    "tongue = dw.Path(stroke='black',fill='none')\n",
    "x1 = x0+15\n",
    "y1 = y0+5\n",
    "x2 = x0+34\n",
    "y2 = y0\n",
    "x_mid = x0+22\n",
    "y_diff = 8\n",
    "tongue.M(x1,y1)\n",
    "tongue.C(x_mid,y1+y_diff,x_mid,y2-y_diff,x2,y2)\n",
    "d.append(tongue)\n",
    "\n",
    "d.savePng('../../images/01-GS-01-sine.png')\n",
    "d"
   ]
  },
  {
   "cell_type": "code",
   "execution_count": null,
   "id": "sorted-hands",
   "metadata": {},
   "outputs": [],
   "source": []
  }
 ],
 "metadata": {
  "kernelspec": {
   "display_name": "Python 3",
   "language": "python",
   "name": "python3"
  },
  "language_info": {
   "codemirror_mode": {
    "name": "ipython",
    "version": 3
   },
   "file_extension": ".py",
   "mimetype": "text/x-python",
   "name": "python",
   "nbconvert_exporter": "python",
   "pygments_lexer": "ipython3",
   "version": "3.9.2"
  }
 },
 "nbformat": 4,
 "nbformat_minor": 5
}
