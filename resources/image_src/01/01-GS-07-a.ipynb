{
 "cells": [
  {
   "cell_type": "code",
   "execution_count": 1,
   "id": "bulgarian-ready",
   "metadata": {},
   "outputs": [],
   "source": [
    "import draw2Svg as dw"
   ]
  },
  {
   "cell_type": "code",
   "execution_count": 45,
   "id": "running-symposium",
   "metadata": {},
   "outputs": [
    {
     "data": {
      "image/svg+xml": [
       "<?xml version=\"1.0\" encoding=\"UTF-8\"?>\n",
       "<svg xmlns=\"http://www.w3.org/2000/svg\" xmlns:xlink=\"http://www.w3.org/1999/xlink\"\n",
       "     width=\"1000\" height=\"250\" viewBox=\"0 0 1000 250\">\n",
       "<defs>\n",
       "</defs>\n",
       "<text x=\"10.0\" y=\"15.0\" font-size=\"16\" letter-spacing=\"1.25\" dy=\"0em\">score lines</text>\n",
       "<text x=\"220.0\" y=\"15.0\" font-size=\"16\" letter-spacing=\"1.25\" dy=\"0em\">resulting performance</text>\n",
       "<text x=\"10.0\" y=\"68.75\" font-size=\"18\" font-family=\"courier\" dy=\"0em\">i \"Hello\" 0 2</text>\n",
       "<text x=\"10.0\" y=\"122.5\" font-size=\"18\" font-family=\"courier\" dy=\"0em\">i \"Hello\" 3 3</text>\n",
       "<text x=\"10.0\" y=\"176.25\" font-size=\"18\" font-family=\"courier\" dy=\"0em\">i \"Hello\" 9 1</text>\n",
       "<path d=\"M220.0,219.25 L990.0,219.25\" stroke=\"black\" />\n",
       "<path d=\"M220.0,219.25 L220.0,227.25\" stroke=\"black\" />\n",
       "<text x=\"220.0\" y=\"246.125\" font-size=\"14\" text-anchor=\"middle\" dy=\"0em\">0</text>\n",
       "<path d=\"M290.0,219.25 L290.0,227.25\" stroke=\"black\" />\n",
       "<text x=\"290.0\" y=\"246.125\" font-size=\"14\" text-anchor=\"middle\" dy=\"0em\">1</text>\n",
       "<path d=\"M360.0,219.25 L360.0,227.25\" stroke=\"black\" />\n",
       "<text x=\"360.0\" y=\"246.125\" font-size=\"14\" text-anchor=\"middle\" dy=\"0em\">2</text>\n",
       "<path d=\"M430.0,219.25 L430.0,227.25\" stroke=\"black\" />\n",
       "<text x=\"430.0\" y=\"246.125\" font-size=\"14\" text-anchor=\"middle\" dy=\"0em\">3</text>\n",
       "<path d=\"M500.0,219.25 L500.0,227.25\" stroke=\"black\" />\n",
       "<text x=\"500.0\" y=\"246.125\" font-size=\"14\" text-anchor=\"middle\" dy=\"0em\">4</text>\n",
       "<path d=\"M570.0,219.25 L570.0,227.25\" stroke=\"black\" />\n",
       "<text x=\"570.0\" y=\"246.125\" font-size=\"14\" text-anchor=\"middle\" dy=\"0em\">5</text>\n",
       "<path d=\"M640.0,219.25 L640.0,227.25\" stroke=\"black\" />\n",
       "<text x=\"640.0\" y=\"246.125\" font-size=\"14\" text-anchor=\"middle\" dy=\"0em\">6</text>\n",
       "<path d=\"M710.0,219.25 L710.0,227.25\" stroke=\"black\" />\n",
       "<text x=\"710.0\" y=\"246.125\" font-size=\"14\" text-anchor=\"middle\" dy=\"0em\">7</text>\n",
       "<path d=\"M780.0,219.25 L780.0,227.25\" stroke=\"black\" />\n",
       "<text x=\"780.0\" y=\"246.125\" font-size=\"14\" text-anchor=\"middle\" dy=\"0em\">8</text>\n",
       "<path d=\"M850.0,219.25 L850.0,227.25\" stroke=\"black\" />\n",
       "<text x=\"850.0\" y=\"246.125\" font-size=\"14\" text-anchor=\"middle\" dy=\"0em\">9</text>\n",
       "<path d=\"M920.0,219.25 L920.0,227.25\" stroke=\"black\" />\n",
       "<text x=\"920.0\" y=\"246.125\" font-size=\"14\" text-anchor=\"middle\" dy=\"0em\">10</text>\n",
       "<text x=\"969.0\" y=\"235.37499999999997\" font-size=\"12\" text-anchor=\"middle\"><tspan x=\"969.0\" dy=\"0em\">time</tspan><tspan x=\"969.0\" dy=\"1em\">(sec)</tspan></text>\n",
       "<rect x=\"220.0\" y=\"41.875\" width=\"140.0\" height=\"43.0\" stroke=\"black\" fill=\"none\" />\n",
       "<rect x=\"430.0\" y=\"95.625\" width=\"210.0\" height=\"43.0\" stroke=\"black\" fill=\"none\" />\n",
       "<rect x=\"850.0\" y=\"149.375\" width=\"70.0\" height=\"43.0\" stroke=\"black\" fill=\"none\" />\n",
       "</svg>"
      ],
      "text/plain": [
       "<draw2Svg.drawing.Drawing at 0x7fcf94d94370>"
      ]
     },
     "execution_count": 45,
     "metadata": {},
     "output_type": "execute_result"
    }
   ],
   "source": [
    "w,h = 1000,250\n",
    "d = dw.Drawing(w,h)\n",
    "\n",
    "xnum = 15 # posts (= one more than divisions)\n",
    "ynum = 5\n",
    "mleft = 10\n",
    "mright = 10\n",
    "mtop = 15\n",
    "mbot = 20\n",
    "xsize = w-mleft-mright\n",
    "ysize = h-mtop-mbot\n",
    "xunit = xsize / (xnum-1)\n",
    "yunit = ysize / (ynum-1)\n",
    "\n",
    "exec(open('draw2Svg_funs.py').read())\n",
    "\n",
    "textsiz = 14\n",
    "\n",
    "def xgrid(inval):\n",
    "    \"\"\"for xnum=4, inval is from 0 (left) to 3 (right)\n",
    "    as range to write\"\"\"\n",
    "    return scale(inval,0,xnum-1,mleft,mleft+xsize)\n",
    "\n",
    "def ygrid(inval):\n",
    "    \"\"\"for num=11, inval is from 0 (top) to 10 (bottom)\n",
    "    as range to write\"\"\"\n",
    "    return scale(inval,0,ynum-1,mtop,mtop+ysize)\n",
    "\n",
    "# titles for both columns\n",
    "tsiz = 16\n",
    "y = ygrid(0)\n",
    "sp = 1.25\n",
    "d.append(dw.Text('score lines',tsiz,xgrid(0),y,letter_spacing=sp))\n",
    "d.append(dw.Text('resulting performance',tsiz,xgrid(3),y,letter_spacing=sp))\n",
    "\n",
    "# score lines\n",
    "tsiz = 18\n",
    "x = xgrid(0)\n",
    "d.append(dw.Text('i \"Hello\" 0 2',tsiz,x,ygrid(1),font_family='courier'))\n",
    "d.append(dw.Text('i \"Hello\" 3 3',tsiz,x,ygrid(2),font_family='courier'))\n",
    "d.append(dw.Text('i \"Hello\" 9 1',tsiz,x,ygrid(3),font_family='courier'))\n",
    "\n",
    "# time scale\n",
    "y = ygrid(3.8)\n",
    "ticklen = 8\n",
    "tsiz = 14\n",
    "d.append(dw.Line(xgrid(3),y,xgrid(14),y,stroke='black'))\n",
    "for i in range(3,14):\n",
    "    x = xgrid(i)\n",
    "    tick(x,y,ticklen)\n",
    "    d.append(dw.Text('%d'%(i-3),tsiz,x,ygrid(4.3),text_anchor='middle'))\n",
    "d.append(dw.Text(['time','(sec)'],tsiz-2,xgrid(13.7),ygrid(4.1),text_anchor='middle'))\n",
    "\n",
    "# instrument instances\n",
    "yindx = 1\n",
    "for start,dur in zip([0,3,9],[2,3,1]):\n",
    "    x = xgrid(start+3)\n",
    "    y = ygrid(yindx-.5)\n",
    "    d.append(dw.Rectangle(x,y,dur*xunit,yunit*.8,stroke='black',fill='none'))\n",
    "    yindx += 1\n",
    "\n",
    "d.savePng('../../images/01-GS-07-a.png')\n",
    "d"
   ]
  },
  {
   "cell_type": "code",
   "execution_count": null,
   "id": "floral-driver",
   "metadata": {},
   "outputs": [],
   "source": []
  }
 ],
 "metadata": {
  "kernelspec": {
   "display_name": "Python 3",
   "language": "python",
   "name": "python3"
  },
  "language_info": {
   "codemirror_mode": {
    "name": "ipython",
    "version": 3
   },
   "file_extension": ".py",
   "mimetype": "text/x-python",
   "name": "python",
   "nbconvert_exporter": "python",
   "pygments_lexer": "ipython3",
   "version": "3.9.2"
  }
 },
 "nbformat": 4,
 "nbformat_minor": 5
}
