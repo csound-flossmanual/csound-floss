{
 "cells": [
  {
   "cell_type": "code",
   "execution_count": 1,
   "id": "manual-security",
   "metadata": {},
   "outputs": [],
   "source": [
    "import draw2Svg as dw"
   ]
  },
  {
   "cell_type": "code",
   "execution_count": 31,
   "id": "purple-yorkshire",
   "metadata": {},
   "outputs": [
    {
     "data": {
      "image/svg+xml": [
       "<?xml version=\"1.0\" encoding=\"UTF-8\"?>\n",
       "<svg xmlns=\"http://www.w3.org/2000/svg\" xmlns:xlink=\"http://www.w3.org/1999/xlink\"\n",
       "     width=\"500\" height=\"150\" viewBox=\"0 0 500 150\">\n",
       "<defs>\n",
       "</defs>\n",
       "<path d=\"M83.33333333333333,63.0 L488,63.0\" stroke=\"gray\" />\n",
       "<path d=\"M83.33333333333333,138 L488,138\" stroke=\"gray\" />\n",
       "<path d=\"M83.33333333333333,63.0 L208.33333333333331,12 L363.0,12 L488,63.0\" stroke=\"black\" fill=\"none\" />\n",
       "<path d=\"M83.33333333333333,138 Q163.33333333333331,138,208.33333333333331,87.0 H363.0 Q408,138,488,138\" stroke=\"black\" fill=\"none\" />\n",
       "<text x=\"12\" y=\"22\" font-size=\"16\" dy=\"0.4em\">linear fades</text>\n",
       "<text x=\"12\" y=\"97.0\" font-size=\"16\" dy=\"0.4em\">curved fades</text>\n",
       "</svg>"
      ],
      "text/plain": [
       "<draw2Svg.drawing.Drawing at 0x7f98eb3ca5b0>"
      ]
     },
     "execution_count": 31,
     "metadata": {},
     "output_type": "execute_result"
    }
   ],
   "source": [
    "w,h = 500,150\n",
    "d = dw.Drawing(w,h)\n",
    "\n",
    "marg = 12\n",
    "x1 = w/6 #start of shapes\n",
    "x2 = x1 + w/4\n",
    "x4 = w - marg\n",
    "x3 = x4 - w/4\n",
    "y_line_top = marg\n",
    "y_line_base = h/2 - marg\n",
    "y_curve_top = h/2 + marg\n",
    "y_curve_base = h - marg\n",
    "\n",
    "# baselines\n",
    "d.append(dw.Line(x1,y_line_base,x4,y_line_base,stroke='gray'))\n",
    "d.append(dw.Line(x1,y_curve_base,x4,y_curve_base,stroke='gray'))\n",
    "\n",
    "# shapes\n",
    "d.append(dw.Lines(x1,y_line_base, x2,y_line_top, x3,y_line_top, x4,y_line_base,\n",
    "                 stroke='black',fill='none'))\n",
    "p = dw.Path(stroke='black',fill='none')\n",
    "p.M(x1,y_curve_base)\n",
    "p.Q(x1+80,y_curve_base, x2,y_curve_top)\n",
    "p.H(x3)\n",
    "p.Q(x4-80,y_curve_base, x4,y_curve_base)\n",
    "d.append(p)\n",
    "\n",
    "# text\n",
    "d.append(dw.Text('linear fades',16,marg,y_line_top+10,valign='middle'))\n",
    "d.append(dw.Text('curved fades',16,marg,y_curve_top+10,valign='middle'))\n",
    "\n",
    "d.savePng('../../images/01-GS-04-e.png')\n",
    "d"
   ]
  },
  {
   "cell_type": "code",
   "execution_count": null,
   "id": "infinite-creativity",
   "metadata": {},
   "outputs": [],
   "source": []
  }
 ],
 "metadata": {
  "kernelspec": {
   "display_name": "Python 3",
   "language": "python",
   "name": "python3"
  },
  "language_info": {
   "codemirror_mode": {
    "name": "ipython",
    "version": 3
   },
   "file_extension": ".py",
   "mimetype": "text/x-python",
   "name": "python",
   "nbconvert_exporter": "python",
   "pygments_lexer": "ipython3",
   "version": "3.9.2"
  }
 },
 "nbformat": 4,
 "nbformat_minor": 5
}
