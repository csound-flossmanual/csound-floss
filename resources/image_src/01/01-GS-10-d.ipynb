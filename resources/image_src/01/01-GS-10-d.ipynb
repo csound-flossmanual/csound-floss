{
 "cells": [
  {
   "cell_type": "code",
   "execution_count": 2,
   "id": "bulgarian-ready",
   "metadata": {},
   "outputs": [],
   "source": [
    "import draw2Svg as dw"
   ]
  },
  {
   "cell_type": "code",
   "execution_count": 63,
   "id": "running-symposium",
   "metadata": {},
   "outputs": [
    {
     "data": {
      "image/svg+xml": [
       "<?xml version=\"1.0\" encoding=\"UTF-8\"?>\n",
       "<svg xmlns=\"http://www.w3.org/2000/svg\" xmlns:xlink=\"http://www.w3.org/1999/xlink\"\n",
       "     width=\"800\" height=\"400\" viewBox=\"0 0 800 400\">\n",
       "<defs>\n",
       "</defs>\n",
       "<path d=\"M40.0,-10.0 L40.0,373.33333333333337\" stroke=\"black\" />\n",
       "<path d=\"M40.0,373.33333333333337 L790.0,373.33333333333337\" stroke=\"black\" />\n",
       "<path d=\"M40.0,373.33333333333337 L32.0,373.33333333333337\" stroke=\"black\" />\n",
       "<text x=\"27.0\" y=\"371.33333333333337\" font-size=\"14\" text-anchor=\"end\" dy=\"0.4em\">0</text>\n",
       "<path d=\"M40.0,220.0 L32.0,220.0\" stroke=\"black\" />\n",
       "<text x=\"27.0\" y=\"218.0\" font-size=\"14\" text-anchor=\"end\" dy=\"0.4em\">0.5</text>\n",
       "<path d=\"M40.0,66.66666666666667 L32.0,66.66666666666667\" stroke=\"black\" />\n",
       "<text x=\"27.0\" y=\"64.66666666666667\" font-size=\"14\" text-anchor=\"end\" dy=\"0.4em\">1</text>\n",
       "<path d=\"M40.0,373.33333333333337 L40.0,381.33333333333337\" stroke=\"black\" />\n",
       "<text x=\"40.0\" y=\"386.33333333333337\" font-size=\"14\" text-anchor=\"middle\" dy=\"1em\">0</text>\n",
       "<path d=\"M165.0,373.33333333333337 L165.0,381.33333333333337\" stroke=\"black\" />\n",
       "<text x=\"165.0\" y=\"386.33333333333337\" font-size=\"14\" text-anchor=\"middle\" dy=\"1em\">1</text>\n",
       "<path d=\"M290.0,373.33333333333337 L290.0,381.33333333333337\" stroke=\"black\" />\n",
       "<text x=\"290.0\" y=\"386.33333333333337\" font-size=\"14\" text-anchor=\"middle\" dy=\"1em\">2</text>\n",
       "<path d=\"M415.0,373.33333333333337 L415.0,381.33333333333337\" stroke=\"black\" />\n",
       "<text x=\"415.0\" y=\"386.33333333333337\" font-size=\"14\" text-anchor=\"middle\" dy=\"1em\">3</text>\n",
       "<path d=\"M540.0,373.33333333333337 L540.0,381.33333333333337\" stroke=\"black\" />\n",
       "<text x=\"540.0\" y=\"386.33333333333337\" font-size=\"14\" text-anchor=\"middle\" dy=\"1em\">4</text>\n",
       "<path d=\"M665.0,373.33333333333337 L665.0,381.33333333333337\" stroke=\"black\" />\n",
       "<text x=\"665.0\" y=\"386.33333333333337\" font-size=\"14\" text-anchor=\"middle\" dy=\"1em\">5</text>\n",
       "<text x=\"765.0\" y=\"386.33333333333337\" font-size=\"14\" text-anchor=\"middle\" dy=\"1em\">time (s)</text>\n",
       "<circle cx=\"40.0\" cy=\"103.4666666666667\" r=\"3\" fill=\"black\" />\n",
       "<path d=\"M40.0,103.4666666666667 L165.0,284.40000000000003\" stroke=\"black\" />\n",
       "<circle cx=\"165.0\" cy=\"284.40000000000003\" r=\"3\" fill=\"black\" />\n",
       "<path d=\"M165.0,284.40000000000003 L290.0,91.19999999999999\" stroke=\"black\" />\n",
       "<circle cx=\"290.0\" cy=\"91.19999999999999\" r=\"3\" fill=\"black\" />\n",
       "<path d=\"M290.0,91.19999999999999 L415.0,339.6\" stroke=\"black\" />\n",
       "<circle cx=\"415.0\" cy=\"339.6\" r=\"3\" fill=\"black\" />\n",
       "<path d=\"M415.0,339.6 L540.0,370.2666666666667\" stroke=\"black\" />\n",
       "<circle cx=\"540.0\" cy=\"370.2666666666667\" r=\"3\" fill=\"black\" />\n",
       "<path d=\"M540.0,370.2666666666667 L665.0,220.00000000000003\" stroke=\"black\" />\n",
       "<circle cx=\"665.0\" cy=\"220.00000000000003\" r=\"3\" fill=\"black\" />\n",
       "<path d=\"M665.0,220.00000000000003 L790.0,183.20000000000002\" stroke=\"black\" />\n",
       "<text x=\"415.0\" y=\"28.333333333333336\" font-size=\"20\" font-family=\"courier\" font-weight=\"bold\" text-anchor=\"middle\" dy=\"0em\">randomi:k(0,1,1,3)</text>\n",
       "</svg>"
      ],
      "text/plain": [
       "<draw2Svg.drawing.Drawing at 0x7f4dbba77c70>"
      ]
     },
     "execution_count": 63,
     "metadata": {},
     "output_type": "execute_result"
    }
   ],
   "source": [
    "w,h = 800,400\n",
    "d = dw.Drawing(w,h)\n",
    "\n",
    "xnum = 7 # posts (= one more than divisions)\n",
    "ynum = 7\n",
    "mleft = 40\n",
    "mright = 10\n",
    "mtop = -10\n",
    "mbot = -50\n",
    "xsize = w-mleft-mright\n",
    "ysize = h-mtop-mbot\n",
    "xunit = xsize / (xnum-1)\n",
    "yunit = ysize / (ynum-1)\n",
    "\n",
    "exec(open('draw2Svg_funs.py').read())\n",
    "\n",
    "def xgrid(inval):\n",
    "    \"\"\"for xnum=4, inval is from 0 (left) to 3 (right)\n",
    "    as range to write\"\"\"\n",
    "    return scale(inval,0,xnum-1,mleft,mleft+xsize)\n",
    "\n",
    "def ygrid(inval):\n",
    "    \"\"\"for num=11, inval is from 0 (top) to 10 (bottom)\n",
    "    as range to write\"\"\"\n",
    "    return scale(inval,0,ynum-1,mtop,mtop+ysize)\n",
    "\n",
    "# axes \n",
    "xleft = xgrid(0)\n",
    "ybot = ygrid(5)\n",
    "line(xleft,ygrid(0),xleft,ybot)\n",
    "line(xleft,ybot,xgrid(6),ybot)\n",
    "\n",
    "#ticks and text\n",
    "ticksiz = 8\n",
    "offset = 5\n",
    "for i,t in zip((5,3,1),('0','0.5','1')):\n",
    "    y = ygrid(i)\n",
    "    tick(xleft,y,-ticksiz)\n",
    "    text(t,xleft-ticksiz-offset,y-2,valign='middle',text_anchor='end')\n",
    "for i in range(6):\n",
    "    tick(xgrid(i),ybot,ticksiz)\n",
    "    text('%d'%i,xgrid(i),ybot+ticksiz+offset,text_anchor='middle',valign='top')\n",
    "text('time (s)',xgrid(5.8),ybot+ticksiz+offset,text_anchor='middle',valign='top')\n",
    "\n",
    "# dots\n",
    "pnts = [.88,.29,.92,.11,.01,.5,.62]\n",
    "for i,pnt in enumerate(pnts):\n",
    "    if i<6: \n",
    "        y1 = scale(pnt,0,1,ygrid(5),ygrid(1))\n",
    "        y2 = scale(pnts[i+1],0,1,ygrid(5),ygrid(1))\n",
    "        dot(xgrid(i),y1)\n",
    "        line(xgrid(i),y1,xgrid(i+1),y2)\n",
    "\n",
    "# text top\n",
    "text('randomi:k(0,1,1,3)',xgrid(3),ygrid(.5),20,font_family='courier',font_weight='bold',text_anchor='middle')\n",
    "\n",
    "#d.setPixelScale(1.2)\n",
    "d.savePng('../../images/01-GS-10-d.png')\n",
    "d"
   ]
  },
  {
   "cell_type": "code",
   "execution_count": null,
   "id": "alive-suite",
   "metadata": {},
   "outputs": [],
   "source": []
  }
 ],
 "metadata": {
  "kernelspec": {
   "display_name": "Python 3",
   "language": "python",
   "name": "python3"
  },
  "language_info": {
   "codemirror_mode": {
    "name": "ipython",
    "version": 3
   },
   "file_extension": ".py",
   "mimetype": "text/x-python",
   "name": "python",
   "nbconvert_exporter": "python",
   "pygments_lexer": "ipython3",
   "version": "3.9.2"
  }
 },
 "nbformat": 4,
 "nbformat_minor": 5
}
