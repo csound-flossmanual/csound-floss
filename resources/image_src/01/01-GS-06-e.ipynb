{
 "cells": [
  {
   "cell_type": "code",
   "execution_count": 1,
   "id": "bulgarian-ready",
   "metadata": {},
   "outputs": [],
   "source": [
    "import draw2Svg as dw"
   ]
  },
  {
   "cell_type": "code",
   "execution_count": 199,
   "id": "running-symposium",
   "metadata": {},
   "outputs": [
    {
     "data": {
      "image/svg+xml": [
       "<?xml version=\"1.0\" encoding=\"UTF-8\"?>\n",
       "<svg xmlns=\"http://www.w3.org/2000/svg\" xmlns:xlink=\"http://www.w3.org/1999/xlink\"\n",
       "     width=\"790\" height=\"380\" viewBox=\"0 0 790 380\">\n",
       "<defs>\n",
       "</defs>\n",
       "<path d=\"M10.0,360.0 L516.6298342541436,46.74033149171271 L710.0,360.0 L516.6298342541436,360.0 L10.0,360.0 M516.6298342541436,360.0 L516.6298342541436,46.74033149171271\" stroke=\"black\" fill=\"none\" />\n",
       "<path d=\"M10.0,360.0 A350,350,0,1,1,710.0,360.0\" stroke=\"gray\" fill=\"none\" />\n",
       "<text x=\"263.3149171270718\" y=\"374.0\" font-size=\"14\" text-anchor=\"middle\" dy=\"0.4em\">a = b + c</text>\n",
       "<text x=\"613.3149171270718\" y=\"374.0\" font-size=\"14\" text-anchor=\"middle\" dy=\"0.4em\">c</text>\n",
       "<text x=\"496.6298342541436\" y=\"203.37016574585635\" font-size=\"14\" text-anchor=\"middle\" dy=\"0.4em\">b</text>\n",
       "</svg>"
      ],
      "text/plain": [
       "<draw2Svg.drawing.Drawing at 0x7f32c83866a0>"
      ]
     },
     "execution_count": 199,
     "metadata": {},
     "output_type": "execute_result"
    }
   ],
   "source": [
    "# here x and y units must be the same\n",
    "xunit = 70\n",
    "yunit = xunit\n",
    "xnum = 12 # posts (= one more than divisions)\n",
    "ynum = 7\n",
    "mleft=10\n",
    "mright=10\n",
    "mtop=10\n",
    "mbot=-50\n",
    "xsize = xunit*(xnum-1)\n",
    "ysize = yunit*(ynum-1)\n",
    "w = xsize+mleft+mright\n",
    "h = ysize+mtop+mbot\n",
    "d = dw.Drawing(w,h)\n",
    "\n",
    "exec(open('draw2Svg_funs.py').read())\n",
    "from math import sqrt\n",
    "\n",
    "\n",
    "textsiz = 14\n",
    "\n",
    "def xgrid(inval):\n",
    "    \"\"\"for xnum=4, inval is from 0 (left) to 3 (right)\n",
    "    as range to write\"\"\"\n",
    "    return scale(inval,0,xnum-1,mleft,mleft+xsize)\n",
    "\n",
    "def ygrid(inval):\n",
    "    \"\"\"for num=11, inval is from 0 (top) to 10 (bottom)\n",
    "    as range to write\"\"\"\n",
    "    return scale(inval,0,ynum-1,mtop,mtop+ysize)\n",
    "\n",
    "# triangle\n",
    "c = (10 / 3.62) * xunit\n",
    "a = 10 * xunit - c\n",
    "b = 1.62 * c\n",
    "p1 = xgrid(0),ygrid(5)\n",
    "p2 = xgrid(0)+a,ygrid(5)-b\n",
    "p3 = xgrid(10),ygrid(5)\n",
    "p4 = xgrid(0)+a,ygrid(5)\n",
    "p = dw.Path(stroke='black',fill='none')\n",
    "p.M(*p1).L(*p2).L(*p3).L(*p4).L(*p1)\n",
    "p.M(*p4).L(*p2)\n",
    "d.append(p)\n",
    "\n",
    "# half circle\n",
    "p = dw.Path(stroke='gray',fill='none')\n",
    "p.M(*p1)\n",
    "p.A(xunit*5,xunit*5,0,1,1,*p3)\n",
    "d.append(p)\n",
    "\n",
    "# text\n",
    "y = ygrid(5.2) \n",
    "d.append(dw.Text('a = b + c',textsiz,xgrid(0)+a/2,y,text_anchor='middle',valign='middle'))\n",
    "d.append(dw.Text('c',textsiz,xgrid(10)-c/2,y,text_anchor='middle',valign='middle'))\n",
    "y = ygrid(5)-b/2\n",
    "d.append(dw.Text('b',textsiz,xgrid(0)+a-20,y,text_anchor='middle',valign='middle'))\n",
    "\n",
    "\n",
    "\n",
    "\n",
    "d.savePng('../../images/01-GS-06-e.png')\n",
    "#d.saveSvg('../../images/01-GS-06-e.svg')\n",
    "d"
   ]
  },
  {
   "cell_type": "code",
   "execution_count": null,
   "id": "cubic-adapter",
   "metadata": {},
   "outputs": [],
   "source": []
  }
 ],
 "metadata": {
  "kernelspec": {
   "display_name": "Python 3",
   "language": "python",
   "name": "python3"
  },
  "language_info": {
   "codemirror_mode": {
    "name": "ipython",
    "version": 3
   },
   "file_extension": ".py",
   "mimetype": "text/x-python",
   "name": "python",
   "nbconvert_exporter": "python",
   "pygments_lexer": "ipython3",
   "version": "3.9.2"
  }
 },
 "nbformat": 4,
 "nbformat_minor": 5
}
