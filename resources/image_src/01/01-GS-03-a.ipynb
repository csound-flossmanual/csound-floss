{
 "cells": [
  {
   "cell_type": "code",
   "execution_count": 1,
   "id": "conditional-lancaster",
   "metadata": {},
   "outputs": [],
   "source": [
    "import draw2Svg as dw"
   ]
  },
  {
   "cell_type": "code",
   "execution_count": 15,
   "id": "cheap-postage",
   "metadata": {},
   "outputs": [
    {
     "data": {
      "image/svg+xml": [
       "<?xml version=\"1.0\" encoding=\"UTF-8\"?>\n",
       "<svg xmlns=\"http://www.w3.org/2000/svg\" xmlns:xlink=\"http://www.w3.org/1999/xlink\"\n",
       "     width=\"600.0\" height=\"300.0\" viewBox=\"0 0 400 200\">\n",
       "<defs>\n",
       "</defs>\n",
       "<path d=\"M30,20 L30,180 L380,180\" stroke=\"black\" fill=\"none\" />\n",
       "<path d=\"M30,46.66666666666667 L25,46.66666666666667\" stroke=\"black\" />\n",
       "<path d=\"M30,73.33333333333334 L25,73.33333333333334\" stroke=\"black\" />\n",
       "<path d=\"M30,100.0 L25,100.0\" stroke=\"black\" />\n",
       "<path d=\"M30,126.66666666666667 L25,126.66666666666667\" stroke=\"black\" />\n",
       "<path d=\"M30,153.33333333333334 L25,153.33333333333334\" stroke=\"black\" />\n",
       "<path d=\"M30,180.0 L25,180.0\" stroke=\"black\" />\n",
       "<text x=\"25\" y=\"46.66666666666667\" font-size=\"12\" text-anchor=\"end\" dy=\"0.4em\">0.5</text>\n",
       "<text x=\"25\" y=\"100.0\" font-size=\"12\" text-anchor=\"end\" dy=\"0.4em\">0.3</text>\n",
       "<text x=\"25\" y=\"153.33333333333334\" font-size=\"12\" text-anchor=\"end\" dy=\"0.4em\">0.1</text>\n",
       "<path d=\"M30,180 v5 M106.92307692307692,180 v5 M183.84615384615384,180 v5 M260.7692307692308,180 v5 M337.6923076923077,180 v5\" stroke=\"black\" stroke-width=\"1\" />\n",
       "<path d=\"M30,100.0 L106.92307692307692,153.33333333333334 L337.6923076923077,153.33333333333334\" fill=\"none\" stroke=\"black\" stroke-width=\"2\" />\n",
       "<text x=\"30\" y=\"185\" font-size=\"12\" text-anchor=\"middle\" dy=\"1em\">0</text>\n",
       "<text x=\"106.92307692307692\" y=\"185\" font-size=\"12\" text-anchor=\"middle\" dy=\"1em\">0.5</text>\n",
       "<text x=\"183.84615384615384\" y=\"185\" font-size=\"12\" text-anchor=\"middle\" dy=\"1em\">1</text>\n",
       "<text x=\"260.7692307692308\" y=\"185\" font-size=\"12\" text-anchor=\"middle\" dy=\"1em\">1.5</text>\n",
       "<text x=\"337.6923076923077\" y=\"185\" font-size=\"12\" text-anchor=\"middle\" dy=\"1em\">2</text>\n",
       "<text x=\"395\" y=\"185\" font-size=\"12\" text-anchor=\"end\" dy=\"1em\">time (s)</text>\n",
       "</svg>"
      ],
      "text/plain": [
       "<draw2Svg.drawing.Drawing at 0x7f16c6962070>"
      ]
     },
     "execution_count": 15,
     "metadata": {},
     "output_type": "execute_result"
    }
   ],
   "source": [
    "wdth,hght = 400,200\n",
    "d = dw.Drawing(wdth,hght)\n",
    "\n",
    "# axes\n",
    "x_left = 30\n",
    "x_right = wdth-20\n",
    "y_top = 20\n",
    "y_bottom = hght-20\n",
    "d.append(dw.Lines(x_left,y_top,\n",
    "                  x_left,y_bottom,\n",
    "                  x_right,y_bottom,\n",
    "                  stroke='black',fill='none'))\n",
    "\n",
    "# y ticks 0-0.5\n",
    "ticklen = 5\n",
    "y_range = y_bottom - y_top\n",
    "y_grid = [i*y_range/6+y_top for i in range(7)]\n",
    "for y in y_grid[1:]:\n",
    "    d.append(dw.Line(x_left,y,x_left-ticklen,y,stroke='black'))\n",
    "d.append(dw.Text('0.5',12,x_left-ticklen,y_grid[1],valign='middle',text_anchor='end'))\n",
    "d.append(dw.Text('0.3',12,x_left-ticklen,y_grid[3],valign='middle',text_anchor='end'))\n",
    "d.append(dw.Text('0.1',12,x_left-ticklen,y_grid[5],valign='middle',text_anchor='end'))\n",
    "    \n",
    "# x ticks \n",
    "t = dw.Path(stroke='black',stroke_width=1)\n",
    "t.M(x_left,y_down)\n",
    "t.v(ticklen)\n",
    "t.M(x_left+x_sec/2,y_down)\n",
    "t.v(ticklen)\n",
    "t.M(x_left+x_sec,y_down)\n",
    "t.v(ticklen)\n",
    "t.M(x_left+x_sec*1.5,y_down)\n",
    "t.v(ticklen)\n",
    "t.M(x_left+x_sec*2,y_down)\n",
    "t.v(ticklen)\n",
    "d.append(t)\n",
    "\n",
    "# line\n",
    "d.append(dw.Lines(x_left,y_grid[3],\n",
    "                  x_left+x_sec/2,y_grid[5],\n",
    "                  x_left+x_sec*2,y_grid[5],\n",
    "                  fill='none',stroke='black',stroke_width=2))\n",
    "\n",
    "# text\n",
    "d.append(dw.Text('0',12,x_left,y_down+ticklen,valign='top',text_anchor='middle'))\n",
    "d.append(dw.Text('0.5',12,x_left+x_sec/2,y_down+ticklen,valign='top',text_anchor='middle'))\n",
    "d.append(dw.Text('1',12,x_left+x_sec,y_down+ticklen,valign='top',text_anchor='middle'))\n",
    "d.append(dw.Text('1.5',12,x_left+x_sec*1.5,y_down+ticklen,valign='top',text_anchor='middle'))\n",
    "d.append(dw.Text('2',12,x_left+x_sec*2,y_down+ticklen,valign='top',text_anchor='middle'))\n",
    "d.append(dw.Text('time (s)',12,wdth-5,y_down+ticklen,valign='top',text_anchor='end'))\n",
    "\n",
    "d.setPixelScale(1.5)\n",
    "#d.saveSvg('../../images/01-GS-03-a.svg')\n",
    "d.savePng('../../images/01-GS-03-a.png')\n",
    "d"
   ]
  },
  {
   "cell_type": "code",
   "execution_count": null,
   "id": "national-briefs",
   "metadata": {},
   "outputs": [],
   "source": []
  }
 ],
 "metadata": {
  "kernelspec": {
   "display_name": "Python 3",
   "language": "python",
   "name": "python3"
  },
  "language_info": {
   "codemirror_mode": {
    "name": "ipython",
    "version": 3
   },
   "file_extension": ".py",
   "mimetype": "text/x-python",
   "name": "python",
   "nbconvert_exporter": "python",
   "pygments_lexer": "ipython3",
   "version": "3.9.2"
  }
 },
 "nbformat": 4,
 "nbformat_minor": 5
}
