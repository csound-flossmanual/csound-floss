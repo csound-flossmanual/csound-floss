{
 "cells": [
  {
   "cell_type": "code",
   "execution_count": 1,
   "id": "disciplinary-dylan",
   "metadata": {},
   "outputs": [],
   "source": [
    "import draw2Svg as dw"
   ]
  },
  {
   "cell_type": "code",
   "execution_count": 42,
   "id": "practical-lambda",
   "metadata": {},
   "outputs": [
    {
     "data": {
      "image/svg+xml": [
       "<?xml version=\"1.0\" encoding=\"UTF-8\"?>\n",
       "<svg xmlns=\"http://www.w3.org/2000/svg\" xmlns:xlink=\"http://www.w3.org/1999/xlink\"\n",
       "     width=\"780\" height=\"100\" viewBox=\"0 0 780 100\">\n",
       "<defs>\n",
       "<path d=\"M0,50.0 C100.0,-100.0,100.0,200.0,200,50.0\" stroke=\"black\" fill=\"gray\" id=\"d0\" />\n",
       "</defs>\n",
       "<path d=\"M35,50.0 L760,50.0\" stroke=\"black\" />\n",
       "<use xlink:href=\"#d0\" x=\"35\" y=\"0\" />\n",
       "<use xlink:href=\"#d0\" x=\"235\" y=\"0\" />\n",
       "<use xlink:href=\"#d0\" x=\"435\" y=\"0\" />\n",
       "<path d=\"M635,50.0 C660.0,5.0,685.0,5.0,685.0,5.0 V50.0\" stroke=\"black\" fill=\"gray\" />\n",
       "<text x=\"10\" y=\"50.0\" font-size=\"12\" transform=\"rotate(-90,10,50)\" text-anchor=\"middle\" letter-spacing=\"1\" dy=\"0em\">Amplitude</text>\n",
       "<text x=\"720\" y=\"65.0\" font-size=\"12\" letter-spacing=\"1\" dy=\"0em\">Time</text>\n",
       "<text x=\"20\" y=\"5.0\" font-size=\"12\" dy=\"0.4em\">1</text>\n",
       "<text x=\"20\" y=\"50.0\" font-size=\"12\" dy=\"0.4em\">0</text>\n",
       "<text x=\"20\" y=\"95.0\" font-size=\"12\" dy=\"0.4em\">-1</text>\n",
       "</svg>"
      ],
      "text/plain": [
       "<draw2Svg.drawing.Drawing at 0x7f31084f7f40>"
      ]
     },
     "execution_count": 42,
     "metadata": {},
     "output_type": "execute_result"
    }
   ],
   "source": [
    "w,h = 780,100\n",
    "d = dw.Drawing(w,h)\n",
    "\n",
    "x_sine_start = 35\n",
    "y_sine_zero = h/2\n",
    "x_period = 200\n",
    "\n",
    "d.append(dw.Line(x_sine_start,y_sine_zero,w-20,y_sine_zero,stroke='black'))\n",
    "\n",
    "p = dw.Path(stroke='black',fill='gray')\n",
    "p.M(0,y_sine_zero)\n",
    "p.C(x_period/2,y_sine_zero-150,\n",
    "    x_period/2,y_sine_zero+150,\n",
    "    x_period,y_sine_zero)\n",
    "d.append(dw.Use(p,x_sine_start,0))\n",
    "d.append(dw.Use(p,x_sine_start+x_period,0))\n",
    "d.append(dw.Use(p,x_sine_start+x_period*2,0))\n",
    "#d.append(dw.Use(p,x_sine_start+x_period*3,0))\n",
    "p = dw.Path(stroke='black',fill='gray')\n",
    "x = x_sine_start+x_period*3\n",
    "p.M(x,y_sine_zero)\n",
    "p.C(x+x_period/8,y_sine_zero-45,\n",
    "    x+x_period/4,y_sine_zero-45,\n",
    "    x+x_period/4,y_sine_zero-45)\n",
    "p.V(y_sine_zero)\n",
    "d.append(p)\n",
    "\n",
    "\n",
    "d.append(dw.Text('Amplitude', 12, 10, y_sine_zero, \n",
    "                 transform='rotate(-90,10,50)', text_anchor='middle', letter_spacing=1))\n",
    "d.append(dw.Text('Time', 12, w-60, h/2+15, letter_spacing=1))\n",
    "d.append(dw.Text('1',12,20,y_sine_zero-45,valign='middle'))\n",
    "d.append(dw.Text('0',12,20,y_sine_zero,valign='middle'))\n",
    "d.append(dw.Text('-1',12,20,y_sine_zero+45,valign='middle'))\n",
    "\n",
    "d.savePng('../../images/01-GS-04-a.png')\n",
    "d"
   ]
  },
  {
   "cell_type": "code",
   "execution_count": null,
   "id": "sorted-hands",
   "metadata": {},
   "outputs": [],
   "source": []
  }
 ],
 "metadata": {
  "kernelspec": {
   "display_name": "Python 3",
   "language": "python",
   "name": "python3"
  },
  "language_info": {
   "codemirror_mode": {
    "name": "ipython",
    "version": 3
   },
   "file_extension": ".py",
   "mimetype": "text/x-python",
   "name": "python",
   "nbconvert_exporter": "python",
   "pygments_lexer": "ipython3",
   "version": "3.9.2"
  }
 },
 "nbformat": 4,
 "nbformat_minor": 5
}
